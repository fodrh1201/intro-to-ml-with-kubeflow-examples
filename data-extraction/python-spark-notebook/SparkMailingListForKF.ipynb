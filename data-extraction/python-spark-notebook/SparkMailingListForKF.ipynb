{
 "cells": [
  {
   "cell_type": "code",
   "execution_count": 3,
   "metadata": {},
   "outputs": [],
   "source": [
    "# Yes we need both these imports\n",
    "from pyspark.sql import SparkSession\n",
    "from pyspark.sql.functions import col, to_date\n",
    "from pyspark.sql.types import *\n",
    "from pyspark.sql.types import StructField, StructType\n",
    "from pyspark.sql.catalog import UserDefinedFunction\n",
    "import os"
   ]
  },
  {
   "cell_type": "code",
   "execution_count": null,
   "metadata": {},
   "outputs": [],
   "source": []
  },
  {
   "cell_type": "code",
   "execution_count": 4,
   "metadata": {},
   "outputs": [],
   "source": [
    "fs_prefix = \"s3a://kf-book-examples/mailing-lists\" # Create with mc as in ch1"
   ]
  },
  {
   "cell_type": "code",
   "execution_count": 5,
   "metadata": {},
   "outputs": [],
   "source": [
    "os.environ[\"PYSPARK_PYTHON\"] = \"python3.6\"\n",
    "# See https://medium.com/@szinck/setting-up-pyspark-jupyter-and-minio-on-kubeflow-kubernetes-aab98874794f\n",
    "session = (SparkSession.builder\n",
    "           .appName(\"fetchMailingListData\")\n",
    "           .config(\"spark.executor.instances\", \"8\")\n",
    "           .config(\"spark.driver.memoryOverhead\", \"0.25\")\n",
    "           .config(\"spark.executor.memory\", \"6g\")\n",
    "           .config(\"spark.dynamicAllocation.enabled\", \"false\")\n",
    "           .config(\"spark.ui.enabled\", \"true\")\n",
    "           .config(\"spark.kubernetes.container.image\",\n",
    "                   \"gcr.io/boos-demo-projects-are-rad/kubeflow/spark-worker/spark-py-36:v3.0.0-preview2-23\")\n",
    "           .config(\"spark.driver.bindAddress\", \"0.0.0.0\")\n",
    "           .config(\"spark.kubernetes.namespace\", \"kubeflow-programmerboo\")\n",
    "           .config(\"spark.master\", \"k8s://https://kubernetes.default\")\n",
    "           .config(\"spark.driver.host\", \"spark-driver.kubeflow-programmerboo.svc.cluster.local\")\n",
    "           .config(\"spark.kubernetes.executor.annotation.sidecar.istio.io/inject\", \"false\")\n",
    "           .config(\"spark.driver.port\", \"39235\")\n",
    "           .config(\"spark.blockManager.port\", \"39236\")\n",
    "            # If using minio - see https://github.com/minio/cookbook/blob/master/docs/apache-spark-with-minio.md\n",
    "           .config(\"spark.hadoop.fs.s3a.endpoint\", \"minio-service.kubeflow.svc.cluster.local:9000\")\n",
    "           .config(\"fs.s3a.connection.ssl.enabled\", \"false\")\n",
    "           .config(\"fs.s3a.path.style.access\", \"true\")\n",
    "           # You can also add an account using the minio command as described in chapter 1\n",
    "           .config(\"spark.hadoop.fs.s3a.access.key\", \"minio\")\n",
    "           .config(\"spark.hadoop.fs.s3a.secret.key\", \"minio123\")\n",
    "          ).getOrCreate()\n",
    "sc = session.sparkContext"
   ]
  },
  {
   "cell_type": "code",
   "execution_count": 6,
   "metadata": {},
   "outputs": [],
   "source": [
    "# Data fetch pipeline: Download mailing list data"
   ]
  },
  {
   "cell_type": "code",
   "execution_count": 7,
   "metadata": {},
   "outputs": [],
   "source": [
    "list_name=\"spark-user\""
   ]
  },
  {
   "cell_type": "code",
   "execution_count": 8,
   "metadata": {},
   "outputs": [],
   "source": [
    "mailing_list_template=\"http://mail-archives.apache.org/mod_mbox/{list_name}/{date}.mbox\""
   ]
  },
  {
   "cell_type": "code",
   "execution_count": 9,
   "metadata": {},
   "outputs": [],
   "source": [
    "# Generate the possible dates"
   ]
  },
  {
   "cell_type": "code",
   "execution_count": 10,
   "metadata": {},
   "outputs": [],
   "source": [
    "start_year=2019 # Change to 2002 once you've verified\n",
    "end_year=2021\n",
    "dates = [\"{:d}{:02d}\".format(year, month) for year in range(start_year, end_year) for month in range (1,12)]"
   ]
  },
  {
   "cell_type": "code",
   "execution_count": 11,
   "metadata": {},
   "outputs": [],
   "source": [
    "def download_emails(date):\n",
    "    import subprocess\n",
    "    from mailbox import mbox\n",
    "    import os\n",
    "    mbox_filename = \"{date}.mbox\".format(date=date)\n",
    "    url=mailing_list_template.format(list_name=list_name,date=date)\n",
    "    subprocess.call([\"wget\", url])\n",
    "    # Skip years that don't exist\n",
    "    if not os.path.exists(mbox_filename):\n",
    "        return []\n",
    "    mail = mbox(mbox_filename.format(date=date), create=False)\n",
    "    # LC the keys since the casing is non-consistent\n",
    "    def get_body(message):\n",
    "        content_type = message.get_content_type()\n",
    "        # Multi-part messages\n",
    "        if message.is_multipart():\n",
    "            return \"\".join(map(get_body, message.get_payload()))\n",
    "        elif \"text\" in content_type or \"html\" in content_type:\n",
    "            return message.get_payload()\n",
    "        else:\n",
    "            return \"\"\n",
    "    def message_to_dict(message):\n",
    "        ret = dict((k.lower(), v) for k, v in message.items())\n",
    "        ret[\"multipart\"] = message.is_multipart()\n",
    "        ret[\"body\"] = get_body(message)\n",
    "        return ret\n",
    "    emails = list(map(message_to_dict, mail.itervalues()))\n",
    "    os.remove(mbox_filename)\n",
    "    return emails"
   ]
  },
  {
   "cell_type": "code",
   "execution_count": 12,
   "metadata": {},
   "outputs": [],
   "source": [
    "# Optional: test that it works locally\n",
    "# download_emails(\"202001\")"
   ]
  },
  {
   "cell_type": "code",
   "execution_count": 13,
   "metadata": {},
   "outputs": [],
   "source": [
    "emails_rdd = sc.parallelize(dates).flatMap(download_emails).cache()"
   ]
  },
  {
   "cell_type": "code",
   "execution_count": 14,
   "metadata": {},
   "outputs": [
    {
     "data": {
      "text/plain": [
       "2600"
      ]
     },
     "execution_count": 14,
     "metadata": {},
     "output_type": "execute_result"
    }
   ],
   "source": [
    "emails_rdd.count()"
   ]
  },
  {
   "cell_type": "code",
   "execution_count": 15,
   "metadata": {},
   "outputs": [
    {
     "name": "stderr",
     "output_type": "stream",
     "text": [
      "/opt/spark/python/pyspark/sql/session.py:395: UserWarning: Using RDD of dict to inferSchema is deprecated. Use pyspark.sql.Row instead\n",
      "  warnings.warn(\"Using RDD of dict to inferSchema is deprecated. \"\n"
     ]
    }
   ],
   "source": [
    "mailing_list_posts_mbox_df = emails_rdd.toDF(sampleRatio=1.0)"
   ]
  },
  {
   "cell_type": "code",
   "execution_count": 16,
   "metadata": {},
   "outputs": [],
   "source": [
    "cached = mailing_list_posts_mbox_df.cache()"
   ]
  },
  {
   "cell_type": "code",
   "execution_count": 17,
   "metadata": {},
   "outputs": [
    {
     "data": {
      "text/plain": [
       "[Row(list-id='<user.spark.apache.org>', In-Reply-To=None),\n",
       " Row(list-id='<user.spark.apache.org>', In-Reply-To='<CAPXXXSBj8_abDSi1WZ9a2FWRGC2PrFWN89m+2_yvgx+3u0RiQg@mail.gmail.com>'),\n",
       " Row(list-id='<user.spark.apache.org>', In-Reply-To='<000c01d4a153$c88bce30$59a36a90$@yeikel.com>'),\n",
       " Row(list-id='<user.spark.apache.org>', In-Reply-To=None),\n",
       " Row(list-id='<user.spark.apache.org>', In-Reply-To='<CALKP4H6c-24TH=cmMBn2GhgNazZW6kvqNtF6+e1tyOoe_517ag@mail.gmail.com>')]"
      ]
     },
     "execution_count": 17,
     "metadata": {},
     "output_type": "execute_result"
    }
   ],
   "source": [
    "mailing_list_posts_mbox_df.select(\"list-id\", \"In-Reply-To\").take(5)"
   ]
  },
  {
   "cell_type": "code",
   "execution_count": 18,
   "metadata": {},
   "outputs": [],
   "source": [
    "spark_mailing_list_data = mailing_list_posts_mbox_df.filter(\n",
    "    mailing_list_posts_mbox_df[\"list-id\"].contains(\"spark\")).repartition(60).cache()"
   ]
  },
  {
   "cell_type": "code",
   "execution_count": 19,
   "metadata": {},
   "outputs": [
    {
     "name": "stdout",
     "output_type": "stream",
     "text": [
      "+----------------------+--------------------+--------------------+--------------------+--------------------+--------------------+--------------------+--------------------+--------------------+--------------------+--------------------+--------------------+--------------------+------------+---------+----------+--------------------+--------------------+--------------------+--------------------+--------------------+-----------------------+--------------------+--------------------+--------------------+-----------+------------+------------+--------------------+--------------------+--------------------+--------------------+--------------------+-------------------------+---------------+----------------+--------------------+----------------------+--------------------+--------------------+--------------------+-----------------------------------+---------------------------+----------------+--------------------+---------------------------------+-------------------------+--------------------------------+---------------------------------------+------------------------------------------+----------------------------+--------------------------------------------+---------------------------------------------+---------------------------+-------------------------------------------------+---------------+---------------------------------------+----------------------+--------------------+--------------------------+----------------+---------------+--------------------------+---------------------+--------+--------------------+----------------+--------------------+----------+---------------------------+-------------------------+--------------------------+-------------+---------------+------------+-------------------+-----------------+-----------+-----------------------+------------+----------------------+-----------------+---------+----------------------+---------------------+-------------------------+--------------------------------------------------+-----------------------------------------+-----+----------+----------+--------------+-----------------+---------+--------------------+---------------------------+---------------+--------------+--------------+--------------+-----------+------------+----------+-----------+------------+---------+-------------+----------------------------------------+--------------+--------+------------------+---------------------+-------------------+-------------------------------------+----------------------+--------+------------------------+----------------+----------+----------------+-----------+-----------+------------+------------+--------------------+---------+-----------+--------+---------+-------------+--------+----------+-----------------+--------------+---------+------------------------+------------------+----------------------+--------------------+---------------+--------------------+--------+------------+----------------+-----------+------+-----------+-------------------+--------------------+--------+--------------------+-------------+-----------------------------+---------------------------+------+------------------+-------------+--------------+---------------+----------------------+----------+--------------------+---------------+--------------------------------------------------------------+----------------+-------------------------------+------------------------+-------------------------+-------------------------+------------------+----------------+---------------------------+--------------+------------+-----------+-----------+--------------------+---------------------+---------------------+---------------+-------------------------------+-------------------------------------------+-----------+---------------------+---------+----------+-------------------+-----------------+-------------------+-----------------+-----------------------+------------+---------+-------------------+------------------+----------------------+--------------+-----------+-------------+------------------+---------------------+--------------+------+------------+------------------+----------------+------------------------+--------------------------+-------------+---------------+----------------------+--------+-----------+----------------------+------------------------+----------------------+--------+-------------+------------+----------------------------------------------+------------------------------+------------------------------+-------------------------+------------------+---------+---------------------------+--------------------------+---------------------------+----------+----------------------+---------------------+--------------------------+-------------+--------------+-------------+---------------+---------------+--------------+---------+-------------------+-----------+------------+-----------+------------------+----------------------------------+---------------------+-------------+-------------------+-----+------------+------+\n",
      "|authentication-results|                body|        content-type|                date|        delivered-to|      dkim-signature|                from|           list-help|             list-id|           list-post|    list-unsubscribe|        mailing-list|          message-id|mime-version|multipart|precedence|            received|         return-path|             subject|                  to|  x-gm-message-state|x-google-dkim-signature|x-google-smtp-source|       x-original-to|          x-received|x-spam-flag|x-spam-level|x-spam-score|       x-spam-status|     x-virus-scanned|         in-reply-to|          references|                  cc|content-transfer-encoding|accept-language|content-language|        received-spf|spamdiagnosticmetadata|spamdiagnosticoutput|        thread-index|        thread-topic|x-exchange-antispam-report-cfa-test|x-forefront-antispam-report|x-forefront-prvs|x-microsoft-antispam|x-microsoft-antispam-message-info|x-microsoft-antispam-prvs|x-microsoft-exchange-diagnostics|x-ms-exchange-antispam-srfa-diagnostics|x-ms-exchange-crosstenant-fromentityheader|x-ms-exchange-crosstenant-id|x-ms-exchange-crosstenant-network-message-id|x-ms-exchange-crosstenant-originalarrivaltime|x-ms-exchange-senderadcheck|x-ms-exchange-transport-crosstenantheadersstamped|x-ms-has-attach|x-ms-office365-filtering-correlation-id|x-ms-publictraffictype|x-ms-tnef-correlator|x-ms-traffictypediagnostic|x-originating-ip|x-originatororg|arc-authentication-results|arc-message-signature|arc-seal|            x-mailer|x-zohomailclient|          user-agent|x-priority|x-ms-office365-filtering-ht|x-proofpoint-spam-details|x-proofpoint-virus-version|x-cm-ctrldata|x-cm-senderinfo|x-cm-transid|x-coremail-antispam|x-coremail-locale|msip_labels|x-ms-exchange-purlcount|x-provags-id|x-ui-out-filterresults|x-ui-sender-class|x-orig-ip|x-eopattributedmessage|x-incomingheadercount|x-incomingtopheadermarker|x-ms-exchange-crosstenant-rms-persistedconsumerorg|x-ms-exchange-messagesentrepresentingtype|x-tmn|content-id|x-spam-bar|x-spam-details|x-spam-origsender|x-auditid|x-brightmail-tracker|x-gmail-original-message-id|x-ovh-tracer-id|x-vr-spamcause|x-vr-spamscore|x-vr-spamstate|x-ymail-osg|x-disclaimed|x-keepsent|x-mimetrack|ironport-sdr|x-fireeye|x-ironport-av|x-ms-exchange-transport-fromentityheader|x-virus-status|reply-to|x-alimail-antispam|x-aliyun-mail-creator|domainkey-signature|x-ms-exchange-crosstenant-mailboxtype|x-afnotificationdomain|x-ppscan|x-proofpoint-spam-reason|x-me-personality|x-me-proxy|x-me-proxy-cause|x-me-sender|feedback-id|x-has-attach|x-qq-bgrelay|x-qq-business-origin|x-qq-feat|x-qq-mailer|x-qq-mid|x-qq-mime|x-qq-sendsize|x-qq-ssf|x-qq-style|x-clientproxiedby|x-cfilter-loop|x-wiganss|x-callingtelephonenumber|x-faxnumberofpages|x-voicemessageduration|             openpgp|x-xfinity-vmeta|x-readdle-message-id|x-esetid|x-esetresult|x-ppp-message-id|x-ppp-vhost|x-guid|x-qq-goodbg|content-disposition|    mail-followup-to|priority|    x-riseup-user-id|x-ipas-result|x-ironport-anti-spam-filtered|x-ironport-anti-spam-result|x-sbrs|      organization|ironport-phdr|x-ld-processed|x-outbound-node|x-outbound-smtp-client|importance|          x-greylist|x-ics-auth-info|x-ms-exchange-crosstenant-originalattributedtenantconnectingip|x-apple-base-url|x-apple-mail-remote-attachments|x-apple-windows-friendly|x-uniform-type-identifier|x-is-generated-message-id|x-local-message-id|x-referenced-uid|x-ms-oob-tlc-oobclassifiers|x-xfinity-vaas|x-attachtype|x-origfiles|x-origsizes|           autocrypt|x-exclaimer-md-config|x-superhuman-draft-id|x-superhuman-id|x-microsoft-original-message-id|x-ms-exchange-crosstenant-userprincipalname|x-mc-unique|x-mimecast-spam-score|x-forward|x-gbs-proc|x-tbonedomainsigned|x-tboneoriginalcc|x-tboneoriginalfrom|x-tboneoriginalto|x-o365-sonar-daas-pilot|x-env-sender|x-msg-ref|x-starscan-received|x-starscan-version|x-symc-ess-client-auth|x-viruschecked|dkim-filter|x-nifty-srcip|x-msw-jemd-malware|x-msw-jemd-newsletter|x-qq-replyhash|x-cbid|x-cbparentid|x-ibm-av-detection|x-ibm-av-version|x-ibm-spammodules-scores|x-ibm-spammodules-versions|x-llnoutbound|x-tnefevaluated|x-google-original-date|x-sender|x-antiabuse|x-authenticated-sender|x-get-message-sender-via|x-outgoing-spam-status|x-source|x-source-args|x-source-dir|x-ms-exchange-organization-recordreviewcfmtype|x-ms-exchange-organization-scl|x-ms-exchange-transport-forked|x-bess-apparent-source-ip|x-bess-brts-status|x-bess-id|x-bess-outbound-spam-report|x-bess-outbound-spam-score|x-bess-outbound-spam-status|x-bess-ver|x-source-routing-agent|x-attachment-filename|x-url-lookup-scanningerror|x-conf-footer|x-ip-vfilter-r|x-cm-draft-id|x-cm-message-id|x-cmae-envelope|x-asf-dkim-sig|toscandlp|x-titus-metadata-40|x-untrusted|x-amp-result|x-antivirus|x-antivirus-status|x-ms-exchange-antispam-messagedata|x-mimecast-originator|x-rcis-action|x-amp-file-uploaded|x-hat|x-mailpolicy|x-srbs|\n",
      "+----------------------+--------------------+--------------------+--------------------+--------------------+--------------------+--------------------+--------------------+--------------------+--------------------+--------------------+--------------------+--------------------+------------+---------+----------+--------------------+--------------------+--------------------+--------------------+--------------------+-----------------------+--------------------+--------------------+--------------------+-----------+------------+------------+--------------------+--------------------+--------------------+--------------------+--------------------+-------------------------+---------------+----------------+--------------------+----------------------+--------------------+--------------------+--------------------+-----------------------------------+---------------------------+----------------+--------------------+---------------------------------+-------------------------+--------------------------------+---------------------------------------+------------------------------------------+----------------------------+--------------------------------------------+---------------------------------------------+---------------------------+-------------------------------------------------+---------------+---------------------------------------+----------------------+--------------------+--------------------------+----------------+---------------+--------------------------+---------------------+--------+--------------------+----------------+--------------------+----------+---------------------------+-------------------------+--------------------------+-------------+---------------+------------+-------------------+-----------------+-----------+-----------------------+------------+----------------------+-----------------+---------+----------------------+---------------------+-------------------------+--------------------------------------------------+-----------------------------------------+-----+----------+----------+--------------+-----------------+---------+--------------------+---------------------------+---------------+--------------+--------------+--------------+-----------+------------+----------+-----------+------------+---------+-------------+----------------------------------------+--------------+--------+------------------+---------------------+-------------------+-------------------------------------+----------------------+--------+------------------------+----------------+----------+----------------+-----------+-----------+------------+------------+--------------------+---------+-----------+--------+---------+-------------+--------+----------+-----------------+--------------+---------+------------------------+------------------+----------------------+--------------------+---------------+--------------------+--------+------------+----------------+-----------+------+-----------+-------------------+--------------------+--------+--------------------+-------------+-----------------------------+---------------------------+------+------------------+-------------+--------------+---------------+----------------------+----------+--------------------+---------------+--------------------------------------------------------------+----------------+-------------------------------+------------------------+-------------------------+-------------------------+------------------+----------------+---------------------------+--------------+------------+-----------+-----------+--------------------+---------------------+---------------------+---------------+-------------------------------+-------------------------------------------+-----------+---------------------+---------+----------+-------------------+-----------------+-------------------+-----------------+-----------------------+------------+---------+-------------------+------------------+----------------------+--------------+-----------+-------------+------------------+---------------------+--------------+------+------------+------------------+----------------+------------------------+--------------------------+-------------+---------------+----------------------+--------+-----------+----------------------+------------------------+----------------------+--------+-------------+------------+----------------------------------------------+------------------------------+------------------------------+-------------------------+------------------+---------+---------------------------+--------------------------+---------------------------+----------+----------------------+---------------------+--------------------------+-------------+--------------+-------------+---------------+---------------+--------------+---------+-------------------+-----------+------------+-----------+------------------+----------------------------------+---------------------+-------------+-------------------+-----+------------+------+\n",
      "|  spamd1-us-west.ap...|On Tue, Apr 30, 2...|multipart/alterna...|Tue, 30 Apr 2019 ...|mailing list user...|                null|Prateek Rajput <p...|<mailto:user-help...|<user.spark.apach...|<mailto:user@spar...|<mailto:user-unsu...|contact user-help...|<CAB8p7DP32=Y0CJ1...|         1.0|     true|      bulk|by mail-lf1-f50.g...|<user-return-7792...|Re: How to specif...|Vatsal Patel <vat...|APjAAAXmK0C3BIvus...|   v=1; a=rsa-sha256...|APXvYqwQu2BU47s7k...|apmail-spark-user...|by 2002:ac2:5381:...|         NO|           *|         1.8|No, score=1.8 tag...|Debian amavisd-ne...|<CAN1J7XxDzPF5dgY...|<CAN1J7XxDzPF5dgY...|user@spark.apache...|                     null|           null|            null|                null|                  null|                null|                null|                null|                               null|                       null|            null|                null|                             null|                     null|                            null|                                   null|                                      null|                        null|                                        null|                                         null|                       null|                                             null|           null|                                   null|                  null|                null|                      null|            null|           null|                      null|                 null|    null|                null|            null|                null|      null|                       null|                     null|                      null|         null|           null|        null|               null|             null|       null|                   null|        null|                  null|             null|     null|                  null|                 null|                     null|                                              null|                                     null| null|      null|      null|          null|             null|     null|                null|                       null|           null|          null|          null|          null|       null|        null|      null|       null|        null|     null|         null|                                    null|          null|    null|              null|                 null|               null|                                 null|                  null|    null|                    null|            null|      null|            null|       null|       null|        null|        null|                null|     null|       null|    null|     null|         null|    null|      null|             null|          null|     null|                    null|              null|                  null|                null|           null|                null|    null|        null|            null|       null|  null|       null|               null|                null|    null|                null|         null|                         null|                       null|  null|              null|         null|          null|           null|                  null|      null|                null|           null|                                                          null|            null|                           null|                    null|                     null|                     null|              null|            null|                       null|          null|        null|       null|       null|                null|                 null|                 null|           null|                           null|                                       null|       null|                 null|     null|      null|               null|             null|               null|             null|                   null|        null|     null|               null|              null|                  null|          null|       null|         null|              null|                 null|          null|  null|        null|              null|            null|                    null|                      null|         null|           null|                  null|    null|       null|                  null|                    null|                  null|    null|         null|        null|                                          null|                          null|                          null|                     null|              null|     null|                       null|                      null|                       null|      null|                  null|                 null|                      null|         null|          null|         null|           null|           null|          null|     null|               null|       null|        null|       null|              null|                              null|                 null|         null|               null| null|        null|  null|\n",
      "|  spamd4-us-west.ap...|Hi,\n",
      "\n",
      "I have a ver...|multipart/alterna...|Sun, 10 Mar 2019 ...|mailing list user...|v=1; a=rsa-sha256...|Lian Jiang <jiang...|<mailto:user-help...|<user.spark.apach...|<mailto:user@spar...|<mailto:user-unsu...|contact user-help...|<CA+aY8X5gGp5MNib...|         1.0|     true|      bulk|by mail-pf1-f180....|<user-return-7750...|use rocksdb for s...|user <user@spark....|APjAAAXSLa3MxxTQW...|   v=1; a=rsa-sha256...|APXvYqzvn7AcmMBKH...|apmail-spark-user...|by 2002:a17:902:9...|         NO|          **|       2.029|No, score=2.029 t...|Debian amavisd-ne...|                null|                null|                null|                     null|           null|            null|                null|                  null|                null|                null|                null|                               null|                       null|            null|                null|                             null|                     null|                            null|                                   null|                                      null|                        null|                                        null|                                         null|                       null|                                             null|           null|                                   null|                  null|                null|                      null|            null|           null|                      null|                 null|    null|                null|            null|                null|      null|                       null|                     null|                      null|         null|           null|        null|               null|             null|       null|                   null|        null|                  null|             null|     null|                  null|                 null|                     null|                                              null|                                     null| null|      null|      null|          null|             null|     null|                null|                       null|           null|          null|          null|          null|       null|        null|      null|       null|        null|     null|         null|                                    null|          null|    null|              null|                 null|               null|                                 null|                  null|    null|                    null|            null|      null|            null|       null|       null|        null|        null|                null|     null|       null|    null|     null|         null|    null|      null|             null|          null|     null|                    null|              null|                  null|                null|           null|                null|    null|        null|            null|       null|  null|       null|               null|                null|    null|                null|         null|                         null|                       null|  null|              null|         null|          null|           null|                  null|      null|                null|           null|                                                          null|            null|                           null|                    null|                     null|                     null|              null|            null|                       null|          null|        null|       null|       null|                null|                 null|                 null|           null|                           null|                                       null|       null|                 null|     null|      null|               null|             null|               null|             null|                   null|        null|     null|               null|              null|                  null|          null|       null|         null|              null|                 null|          null|  null|        null|              null|            null|                    null|                      null|         null|           null|                  null|    null|       null|                  null|                    null|                  null|    null|         null|        null|                                          null|                          null|                          null|                     null|              null|     null|                       null|                      null|                       null|      null|                  null|                 null|                      null|         null|          null|         null|           null|           null|          null|     null|               null|       null|        null|       null|              null|                              null|                 null|         null|               null| null|        null|  null|\n",
      "|  spamd1-us-west.ap...|Please look into ...|multipart/alterna...|Mon, 22 Apr 2019 ...|mailing list user...|v=1; a=rsa-sha256...|Vipul Rajan <vipu...|<mailto:user-help...|<user.spark.apach...|<mailto:user@spar...|<mailto:user-unsu...|contact user-help...|<CA+gePn_HZqoAs6w...|         1.0|     true|      bulk|by mail-wr1-f52.g...|<user-return-7784...|Re: Structured St...|shicheng31604@gma...|APjAAAVlj7F0izMNM...|   v=1; a=rsa-sha256...|APXvYqxjHc6BF9Q5B...|apmail-spark-user...|by 2002:adf:dec4:...|         NO|          **|        2.81|No, score=2.81 ta...|Debian amavisd-ne...|<2019042218005669...|<2019042218005669...|spark-user <user@...|                     null|           null|            null|                null|                  null|                null|                null|                null|                               null|                       null|            null|                null|                             null|                     null|                            null|                                   null|                                      null|                        null|                                        null|                                         null|                       null|                                             null|           null|                                   null|                  null|                null|                      null|            null|           null|                      null|                 null|    null|                null|            null|                null|      null|                       null|                     null|                      null|         null|           null|        null|               null|             null|       null|                   null|        null|                  null|             null|     null|                  null|                 null|                     null|                                              null|                                     null| null|      null|      null|          null|             null|     null|                null|                       null|           null|          null|          null|          null|       null|        null|      null|       null|        null|     null|         null|                                    null|          null|    null|              null|                 null|               null|                                 null|                  null|    null|                    null|            null|      null|            null|       null|       null|        null|        null|                null|     null|       null|    null|     null|         null|    null|      null|             null|          null|     null|                    null|              null|                  null|                null|           null|                null|    null|        null|            null|       null|  null|       null|               null|                null|    null|                null|         null|                         null|                       null|  null|              null|         null|          null|           null|                  null|      null|                null|           null|                                                          null|            null|                           null|                    null|                     null|                     null|              null|            null|                       null|          null|        null|       null|       null|                null|                 null|                 null|           null|                           null|                                       null|       null|                 null|     null|      null|               null|             null|               null|             null|                   null|        null|     null|               null|              null|                  null|          null|       null|         null|              null|                 null|          null|  null|        null|              null|            null|                    null|                      null|         null|           null|                  null|    null|       null|                  null|                    null|                  null|    null|         null|        null|                                          null|                          null|                          null|                     null|              null|     null|                       null|                      null|                       null|      null|                  null|                 null|                      null|         null|          null|         null|           null|           null|          null|     null|               null|       null|        null|       null|              null|                              null|                 null|         null|               null| null|        null|  null|\n",
      "|  spf=none (sender ...|SGkgSmlhbmcNCg0KV...|multipart/alterna...|Fri, 19 Apr 2019 ...|mailing list user...|                null|\"Khare, Ankit\" <a...|<mailto:user-help...|<user.spark.apach...|<mailto:user@spar...|<mailto:user-unsu...|contact user-help...|<7B46DFA1-7BE8-4F...|         1.0|     true|      bulk|from AM0PR07MB497...|<user-return-7782...|Re: writing into ...|spark receiver <s...|                null|                   null|                null|apmail-spark-user...|                null|         NO|           *|       1.998|No, score=1.998 t...|Debian amavisd-ne...|\n",
      " <CANM9ZW4UaW2py...|\n",
      " <CA+aY8X6aVpO94...|=?utf-8?B?SsO2cm4...|                     null|   en-IN, en-US|           en-US|None (protection....|                  null|                null|AQHU9f2KotHzOUE0W...|writing into orac...|                               null|       \n",
      " SFV:NSPM;SFS:(1...|      0012E6D357|\n",
      " BCL:0;PCL:0;RUL...|             \n",
      " ZG3T1nKjMpGyLpy...|     \n",
      " <AM0PR07MB60668...|                            null|                                   null|                                    Hosted|        b914a242-e718-443...|                        282c6d9e-df2d-436...|                         19 Apr 2019 13:58...|                          1|                                    AM0PR07MB6066|               |                   282c6d9e-df2d-436...|                 Email|                    |            AM0PR07MB6066:|[185.160.250.20]|        eon.com|                      null|                 null|    null|                null|            null|                null|      null|                       null|                     null|                      null|         null|           null|        null|               null|             null|       null|                   null|        null|                  null|             null|     null|                  null|                 null|                     null|                                              null|                                     null| null|      null|      null|          null|             null|     null|                null|                       null|           null|          null|          null|          null|       null|        null|      null|       null|        null|     null|         null|                                    null|          null|    null|              null|                 null|               null|                               HOSTED|                  null|    null|                    null|            null|      null|            null|       null|       null|        null|        null|                null|     null|       null|    null|     null|         null|    null|      null|             null|          null|     null|                    null|              null|                  null|                null|           null|                null|    null|        null|            null|       null|  null|       null|               null|                null|    null|                null|         null|                         null|                       null|  null|              null|         null|          null|           null|                  null|      null|                null|           null|                                                          null|            null|                           null|                    null|                     null|                     null|              null|            null|                       null|          null|        null|       null|       null|                null|                 null|                 null|           null|                           null|                                       null|       null|                 null|     null|      null|               null|             null|               null|             null|                   null|        null|     null|               null|              null|                  null|          null|       null|         null|              null|                 null|          null|  null|        null|              null|            null|                    null|                      null|         null|           null|                  null|    null|       null|                  null|                    null|                  null|    null|         null|        null|                                          null|                          null|                          null|                     null|              null|     null|                       null|                      null|                       null|      null|                  null|                 null|                      null|         null|          null|         null|           null|           null|          null|     null|               null|       null|        null|       null|              null|                              null|                 null|         null|               null| null|        null|  null|\n",
      "|                  null|It is hard to tel...|text/plain; chars...|Wed, 17 Apr 2019 ...|mailing list user...|                null|Yeikel <email@yei...|<mailto:user-help...|<user.spark.apach...|<mailto:user@spar...|<mailto:user-unsu...|contact user-help...|<1555524727873-0....|         1.0|    false|      bulk|from n3.nabble.co...|<user-return-7780...|Re: Parallelize J...|user@spark.apache...|                null|                   null|                null|apmail-spark-user...|                null|         NO|        ****|       4.813|No, score=4.813 t...|Debian amavisd-ne...|<LEJPR01MB0073D2E...|<LEJPR01MB0073D2E...|                null|                     7bit|           null|            null|                null|                  null|                null|                null|                null|                               null|                       null|            null|                null|                             null|                     null|                            null|                                   null|                                      null|                        null|                                        null|                                         null|                       null|                                             null|           null|                                   null|                  null|                null|                      null|            null|           null|                      null|                 null|    null|                null|            null|                null|      null|                       null|                     null|                      null|         null|           null|        null|               null|             null|       null|                   null|        null|                  null|             null|     null|                  null|                 null|                     null|                                              null|                                     null| null|      null|      null|          null|             null|     null|                null|                       null|           null|          null|          null|          null|       null|        null|      null|       null|        null|     null|         null|                                    null|          null|    null|              null|                 null|               null|                                 null|                  null|    null|                    null|            null|      null|            null|       null|       null|        null|        null|                null|     null|       null|    null|     null|         null|    null|      null|             null|          null|     null|                    null|              null|                  null|                null|           null|                null|    null|        null|            null|       null|  null|       null|               null|                null|    null|                null|         null|                         null|                       null|  null|              null|         null|          null|           null|                  null|      null|                null|           null|                                                          null|            null|                           null|                    null|                     null|                     null|              null|            null|                       null|          null|        null|       null|       null|                null|                 null|                 null|           null|                           null|                                       null|       null|                 null|     null|      null|               null|             null|               null|             null|                   null|        null|     null|               null|              null|                  null|          null|       null|         null|              null|                 null|          null|  null|        null|              null|            null|                    null|                      null|         null|           null|                  null|    null|       null|                  null|                    null|                  null|    null|         null|        null|                                          null|                          null|                          null|                     null|              null|     null|                       null|                      null|                       null|      null|                  null|                 null|                      null|         null|          null|         null|           null|           null|          null|     null|               null|       null|        null|       null|              null|                              null|                 null|         null|               null| null|        null|  null|\n",
      "|  spamd3-us-west.ap...|Hi,\n",
      "\n",
      "I am trying ...|multipart/alterna...|Mon, 25 Mar 2019 ...|mailing list user...|v=1; a=rsa-sha256...|Kumar sp <kra18.s...|<mailto:user-help...|<user.spark.apach...|<mailto:user@spar...|<mailto:user-unsu...|contact user-help...|<CAMRB0rtg4kR_7wn...|         1.0|     true|      bulk|by mail-lj1-f178....|<user-return-7761...|Window function r...|user@spark.apache...|APjAAAW4DTKvdFZc0...|   v=1; a=rsa-sha256...|APXvYqxgyoDD2D7Iq...|apmail-spark-user...|by 2002:a2e:84ce:...|         NO|           *|       1.799|No, score=1.799 t...|Debian amavisd-ne...|                null|                null|                null|                     null|           null|            null|                null|                  null|                null|                null|                null|                               null|                       null|            null|                null|                             null|                     null|                            null|                                   null|                                      null|                        null|                                        null|                                         null|                       null|                                             null|           null|                                   null|                  null|                null|                      null|            null|           null|                      null|                 null|    null|                null|            null|                null|      null|                       null|                     null|                      null|         null|           null|        null|               null|             null|       null|                   null|        null|                  null|             null|     null|                  null|                 null|                     null|                                              null|                                     null| null|      null|      null|          null|             null|     null|                null|                       null|           null|          null|          null|          null|       null|        null|      null|       null|        null|     null|         null|                                    null|          null|    null|              null|                 null|               null|                                 null|                  null|    null|                    null|            null|      null|            null|       null|       null|        null|        null|                null|     null|       null|    null|     null|         null|    null|      null|             null|          null|     null|                    null|              null|                  null|                null|           null|                null|    null|        null|            null|       null|  null|       null|               null|                null|    null|                null|         null|                         null|                       null|  null|              null|         null|          null|           null|                  null|      null|                null|           null|                                                          null|            null|                           null|                    null|                     null|                     null|              null|            null|                       null|          null|        null|       null|       null|                null|                 null|                 null|           null|                           null|                                       null|       null|                 null|     null|      null|               null|             null|               null|             null|                   null|        null|     null|               null|              null|                  null|          null|       null|         null|              null|                 null|          null|  null|        null|              null|            null|                    null|                      null|         null|           null|                  null|    null|       null|                  null|                    null|                  null|    null|         null|        null|                                          null|                          null|                          null|                     null|              null|     null|                       null|                      null|                       null|      null|                  null|                 null|                      null|         null|          null|         null|           null|           null|          null|     null|               null|       null|        null|       null|              null|                              null|                 null|         null|               null| null|        null|  null|\n",
      "|  spamd3-us-west.ap...|To put it simply,...|multipart/alterna...|Tue, 23 Apr 2019 ...|mailing list user...|v=1; a=rsa-sha256...|Rishikesh Gawade ...|<mailto:user-help...|<user.spark.apach...|<mailto:user@spar...|<mailto:user-unsu...|contact user-help...|<CAMe19oOCsX3mhvL...|         1.0|     true|      bulk|by mail-ot1-f66.g...|<user-return-7784...|Re: Connecting to...|user@spark.apache...|APjAAAW874FfgHDt4...|   v=1; a=rsa-sha256...|APXvYqyv6G1qMFY+O...|apmail-spark-user...|by 2002:a9d:7f0b:...|         NO|          **|       2.051|No, score=2.051 t...|Debian amavisd-ne...|<CAMe19oPZzecY-nf...|<CAMe19oPZzecY-nf...|                null|                     null|           null|            null|                null|                  null|                null|                null|                null|                               null|                       null|            null|                null|                             null|                     null|                            null|                                   null|                                      null|                        null|                                        null|                                         null|                       null|                                             null|           null|                                   null|                  null|                null|                      null|            null|           null|                      null|                 null|    null|                null|            null|                null|      null|                       null|                     null|                      null|         null|           null|        null|               null|             null|       null|                   null|        null|                  null|             null|     null|                  null|                 null|                     null|                                              null|                                     null| null|      null|      null|          null|             null|     null|                null|                       null|           null|          null|          null|          null|       null|        null|      null|       null|        null|     null|         null|                                    null|          null|    null|              null|                 null|               null|                                 null|                  null|    null|                    null|            null|      null|            null|       null|       null|        null|        null|                null|     null|       null|    null|     null|         null|    null|      null|             null|          null|     null|                    null|              null|                  null|                null|           null|                null|    null|        null|            null|       null|  null|       null|               null|                null|    null|                null|         null|                         null|                       null|  null|              null|         null|          null|           null|                  null|      null|                null|           null|                                                          null|            null|                           null|                    null|                     null|                     null|              null|            null|                       null|          null|        null|       null|       null|                null|                 null|                 null|           null|                           null|                                       null|       null|                 null|     null|      null|               null|             null|               null|             null|                   null|        null|     null|               null|              null|                  null|          null|       null|         null|              null|                 null|          null|  null|        null|              null|            null|                    null|                      null|         null|           null|                  null|    null|       null|                  null|                    null|                  null|    null|         null|        null|                                          null|                          null|                          null|                     null|              null|     null|                       null|                      null|                       null|      null|                  null|                 null|                      null|         null|          null|         null|           null|           null|          null|     null|               null|       null|        null|       null|              null|                              null|                 null|         null|               null| null|        null|  null|\n",
      "|  spamd4-us-west.ap...|Hi All,\n",
      "  I need ...|multipart/alterna...|Tue, 5 Mar 2019 1...|mailing list user...|v=1; a=rsa-sha256...|Shyam P <shyamabi...|<mailto:user-help...|<user.spark.apach...|<mailto:user@spar...|<mailto:user-unsu...|contact user-help...|<CADVBbjwX4SYTBVF...|         1.0|     true|      bulk|by mail-lj1-f181....|<user-return-7746...|                    |spark users <user...|APjAAAXzDF5kYYI+z...|   v=1; a=rsa-sha256...|APXvYqw+SjrCaSyYF...|apmail-spark-user...|by 2002:a2e:8585:...|         NO|           *|       1.799|No, score=1.799 t...|Debian amavisd-ne...|                null|                null|spark-connector-u...|                     null|           null|            null|                null|                  null|                null|                null|                null|                               null|                       null|            null|                null|                             null|                     null|                            null|                                   null|                                      null|                        null|                                        null|                                         null|                       null|                                             null|           null|                                   null|                  null|                null|                      null|            null|           null|                      null|                 null|    null|                null|            null|                null|      null|                       null|                     null|                      null|         null|           null|        null|               null|             null|       null|                   null|        null|                  null|             null|     null|                  null|                 null|                     null|                                              null|                                     null| null|      null|      null|          null|             null|     null|                null|                       null|           null|          null|          null|          null|       null|        null|      null|       null|        null|     null|         null|                                    null|          null|    null|              null|                 null|               null|                                 null|                  null|    null|                    null|            null|      null|            null|       null|       null|        null|        null|                null|     null|       null|    null|     null|         null|    null|      null|             null|          null|     null|                    null|              null|                  null|                null|           null|                null|    null|        null|            null|       null|  null|       null|               null|                null|    null|                null|         null|                         null|                       null|  null|              null|         null|          null|           null|                  null|      null|                null|           null|                                                          null|            null|                           null|                    null|                     null|                     null|              null|            null|                       null|          null|        null|       null|       null|                null|                 null|                 null|           null|                           null|                                       null|       null|                 null|     null|      null|               null|             null|               null|             null|                   null|        null|     null|               null|              null|                  null|          null|       null|         null|              null|                 null|          null|  null|        null|              null|            null|                    null|                      null|         null|           null|                  null|    null|       null|                  null|                    null|                  null|    null|         null|        null|                                          null|                          null|                          null|                     null|              null|     null|                       null|                      null|                       null|      null|                  null|                 null|                      null|         null|          null|         null|           null|           null|          null|     null|               null|       null|        null|       null|              null|                              null|                 null|         null|               null| null|        null|  null|\n",
      "|  spamd4-us-west.ap...|The dataset was u...|multipart/alterna...|Tue, 23 Apr 2019 ...|mailing list user...|v=1; a=rsa-sha256...|Qian He <hq.jacob...|<mailto:user-help...|<user.spark.apach...|<mailto:user@spar...|<mailto:user-unsu...|contact user-help...|<CAO2noVRWTb4MDGV...|         1.0|     true|      bulk|by mail-it1-f194....|<user-return-7786...|Re: Spark Logisti...|Weichen Xu <weich...|APjAAAXPEMa5t9oMX...|   v=1; a=rsa-sha256...|APXvYqzVo8Pev2w+Y...|apmail-spark-user...|by 2002:a24:4210:...|         NO|           *|       1.637|No, score=1.637 t...|Debian amavisd-ne...|<CAG23y-xhZZbNV=c...|<CAO2noVSj7FCSx_p...|\"user @spark\" <us...|                     null|           null|            null|                null|                  null|                null|                null|                null|                               null|                       null|            null|                null|                             null|                     null|                            null|                                   null|                                      null|                        null|                                        null|                                         null|                       null|                                             null|           null|                                   null|                  null|                null|                      null|            null|           null|                      null|                 null|    null|                null|            null|                null|      null|                       null|                     null|                      null|         null|           null|        null|               null|             null|       null|                   null|        null|                  null|             null|     null|                  null|                 null|                     null|                                              null|                                     null| null|      null|      null|          null|             null|     null|                null|                       null|           null|          null|          null|          null|       null|        null|      null|       null|        null|     null|         null|                                    null|          null|    null|              null|                 null|               null|                                 null|                  null|    null|                    null|            null|      null|            null|       null|       null|        null|        null|                null|     null|       null|    null|     null|         null|    null|      null|             null|          null|     null|                    null|              null|                  null|                null|           null|                null|    null|        null|            null|       null|  null|       null|               null|                null|    null|                null|         null|                         null|                       null|  null|              null|         null|          null|           null|                  null|      null|                null|           null|                                                          null|            null|                           null|                    null|                     null|                     null|              null|            null|                       null|          null|        null|       null|       null|                null|                 null|                 null|           null|                           null|                                       null|       null|                 null|     null|      null|               null|             null|               null|             null|                   null|        null|     null|               null|              null|                  null|          null|       null|         null|              null|                 null|          null|  null|        null|              null|            null|                    null|                      null|         null|           null|                  null|    null|       null|                  null|                    null|                  null|    null|         null|        null|                                          null|                          null|                          null|                     null|              null|     null|                       null|                      null|                       null|      null|                  null|                 null|                      null|         null|          null|         null|           null|           null|          null|     null|               null|       null|        null|       null|              null|                              null|                 null|         null|               null| null|        null|  null|\n",
      "|  spamd2-us-west.ap...|Glad to help, Jac...|multipart/alterna...|Thu, 27 Jun 2019 ...|mailing list user...|v=1; a=rsa-sha256...|Jungtaek Lim <kab...|<mailto:user-help...|<user.spark.apach...|<mailto:user@spar...|<mailto:user-unsu...|contact user-help...|<CAF5108inj05KPVA...|         1.0|     true|      bulk|by mail-ed1-f66.g...|<user-return-7850...|Re: Change parall...|Jacek Laskowski <...|APjAAAXYNGcpAKhyS...|   v=1; a=rsa-sha256...|APXvYqz4RZ8dX07KE...|apmail-spark-user...|by 2002:a17:906:4...|         NO|           *|       1.801|No, score=1.801 t...|Debian amavisd-ne...|<CAB_G8ZtWEteFFNG...|<4B5E72FC-6725-4E...|\"Rong, Jialei\" <j...|                     null|           null|            null|                null|                  null|                null|                null|                null|                               null|                       null|            null|                null|                             null|                     null|                            null|                                   null|                                      null|                        null|                                        null|                                         null|                       null|                                             null|           null|                                   null|                  null|                null|                      null|            null|           null|                      null|                 null|    null|                null|            null|                null|      null|                       null|                     null|                      null|         null|           null|        null|               null|             null|       null|                   null|        null|                  null|             null|     null|                  null|                 null|                     null|                                              null|                                     null| null|      null|      null|          null|             null|     null|                null|                       null|           null|          null|          null|          null|       null|        null|      null|       null|        null|     null|         null|                                    null|          null|    null|              null|                 null|               null|                                 null|                  null|    null|                    null|            null|      null|            null|       null|       null|        null|        null|                null|     null|       null|    null|     null|         null|    null|      null|             null|          null|     null|                    null|              null|                  null|                null|           null|                null|    null|        null|            null|       null|  null|       null|               null|                null|    null|                null|         null|                         null|                       null|  null|              null|         null|          null|           null|                  null|      null|                null|           null|                                                          null|            null|                           null|                    null|                     null|                     null|              null|            null|                       null|          null|        null|       null|       null|                null|                 null|                 null|           null|                           null|                                       null|       null|                 null|     null|      null|               null|             null|               null|             null|                   null|        null|     null|               null|              null|                  null|          null|       null|         null|              null|                 null|          null|  null|        null|              null|            null|                    null|                      null|         null|           null|                  null|    null|       null|                  null|                    null|                  null|    null|         null|        null|                                          null|                          null|                          null|                     null|              null|     null|                       null|                      null|                       null|      null|                  null|                 null|                      null|         null|          null|         null|           null|           null|          null|     null|               null|       null|        null|       null|              null|                              null|                 null|         null|               null| null|        null|  null|\n",
      "|  spamd1-us-west.ap...|I did a quick goo...|multipart/alterna...|Wed, 15 May 2019 ...|mailing list user...|v=1; a=rsa-sha256...|Jason Nerothin <j...|<mailto:user-help...|<user.spark.apach...|<mailto:user@spar...|<mailto:user-unsu...|contact user-help...|<CAPvqM3drA2Gn01s...|         1.0|     true|      bulk|by mail-io1-f43.g...|<user-return-7810...|Re: Why do we nee...|Jean-Georges Perr...|APjAAAXuIkX0Qvgjd...|   v=1; a=rsa-sha256...|APXvYqxXRUTmpoU43...|apmail-spark-user...|by 2002:a5d:9743:...|         NO|           *|         1.8|No, score=1.8 tag...|Debian amavisd-ne...|<3A2B9EA8-939B-4D...|<CAAgk9rwRymByNFf...|Gary Gao <garygao...|                     null|           null|            null|                null|                  null|                null|                null|                null|                               null|                       null|            null|                null|                             null|                     null|                            null|                                   null|                                      null|                        null|                                        null|                                         null|                       null|                                             null|           null|                                   null|                  null|                null|                      null|            null|           null|                      null|                 null|    null|                null|            null|                null|      null|                       null|                     null|                      null|         null|           null|        null|               null|             null|       null|                   null|        null|                  null|             null|     null|                  null|                 null|                     null|                                              null|                                     null| null|      null|      null|          null|             null|     null|                null|                       null|           null|          null|          null|          null|       null|        null|      null|       null|        null|     null|         null|                                    null|          null|    null|              null|                 null|               null|                                 null|                  null|    null|                    null|            null|      null|            null|       null|       null|        null|        null|                null|     null|       null|    null|     null|         null|    null|      null|             null|          null|     null|                    null|              null|                  null|                null|           null|                null|    null|        null|            null|       null|  null|       null|               null|                null|    null|                null|         null|                         null|                       null|  null|              null|         null|          null|           null|                  null|      null|                null|           null|                                                          null|            null|                           null|                    null|                     null|                     null|              null|            null|                       null|          null|        null|       null|       null|                null|                 null|                 null|           null|                           null|                                       null|       null|                 null|     null|      null|               null|             null|               null|             null|                   null|        null|     null|               null|              null|                  null|          null|       null|         null|              null|                 null|          null|  null|        null|              null|            null|                    null|                      null|         null|           null|                  null|    null|       null|                  null|                    null|                  null|    null|         null|        null|                                          null|                          null|                          null|                     null|              null|     null|                       null|                      null|                       null|      null|                  null|                 null|                      null|         null|          null|         null|           null|           null|          null|     null|               null|       null|        null|       null|              null|                              null|                 null|         null|               null| null|        null|  null|\n",
      "|  spamd4-us-west.ap...|Hi,\n",
      "\n",
      "I can run su...|multipart/alterna...|Sun, 26 May 2019 ...|mailing list user...|v=1; a=rsa-sha256...|David Aspegren <d...|<mailto:user-help...|<user.spark.apach...|<mailto:user@spar...|<mailto:user-unsu...|contact user-help...|<CAEW50+f4mQM3Ozg...|         1.0|     true|      bulk|by mail-yw1-f46.g...|<user-return-7821...|Spark 2.4.3 on Ku...|user@spark.apache...|APjAAAVSaPJ1H1znC...|   v=1; a=rsa-sha256...|APXvYqz0J8DKRbjaH...|apmail-spark-user...|by 2002:a81:53c2:...|         NO|           *|       1.802|No, score=1.802 t...|Debian amavisd-ne...|                null|                null|                null|                     null|           null|            null|                null|                  null|                null|                null|                null|                               null|                       null|            null|                null|                             null|                     null|                            null|                                   null|                                      null|                        null|                                        null|                                         null|                       null|                                             null|           null|                                   null|                  null|                null|                      null|            null|           null|                      null|                 null|    null|                null|            null|                null|      null|                       null|                     null|                      null|         null|           null|        null|               null|             null|       null|                   null|        null|                  null|             null|     null|                  null|                 null|                     null|                                              null|                                     null| null|      null|      null|          null|             null|     null|                null|                       null|           null|          null|          null|          null|       null|        null|      null|       null|        null|     null|         null|                                    null|          null|    null|              null|                 null|               null|                                 null|                  null|    null|                    null|            null|      null|            null|       null|       null|        null|        null|                null|     null|       null|    null|     null|         null|    null|      null|             null|          null|     null|                    null|              null|                  null|                null|           null|                null|    null|        null|            null|       null|  null|       null|               null|                null|    null|                null|         null|                         null|                       null|  null|              null|         null|          null|           null|                  null|      null|                null|           null|                                                          null|            null|                           null|                    null|                     null|                     null|              null|            null|                       null|          null|        null|       null|       null|                null|                 null|                 null|           null|                           null|                                       null|       null|                 null|     null|      null|               null|             null|               null|             null|                   null|        null|     null|               null|              null|                  null|          null|       null|         null|              null|                 null|          null|  null|        null|              null|            null|                    null|                      null|         null|           null|                  null|    null|       null|                  null|                    null|                  null|    null|         null|        null|                                          null|                          null|                          null|                     null|              null|     null|                       null|                      null|                       null|      null|                  null|                 null|                      null|         null|          null|         null|           null|           null|          null|     null|               null|       null|        null|       null|              null|                              null|                 null|         null|               null| null|        null|  null|\n",
      "|  spamd4-us-west.ap...|Hi all,\n",
      "\n",
      "As we kn...|multipart/alterna...|Wed, 12 Jun 2019 ...|mailing list user...|v=1; a=rsa-sha256...|Shivam Sharma <28...|<mailto:user-help...|<user.spark.apach...|<mailto:user@spar...|<mailto:user-unsu...|contact user-help...|<CAPgL-yNmMpdzf_g...|         1.0|     true|      bulk|by mail-it1-f181....|<user-return-7836...|Performance diffe...|user <user@spark....|APjAAAWiwS68ODGD3...|   v=1; a=rsa-sha256...|APXvYqzCC+uGfjM08...|apmail-spark-user...|by 2002:a02:ce92:...|         NO|           *|       1.799|No, score=1.799 t...|Debian amavisd-ne...|                null|                null|                null|                     null|           null|            null|                null|                  null|                null|                null|                null|                               null|                       null|            null|                null|                             null|                     null|                            null|                                   null|                                      null|                        null|                                        null|                                         null|                       null|                                             null|           null|                                   null|                  null|                null|                      null|            null|           null|                      null|                 null|    null|                null|            null|                null|      null|                       null|                     null|                      null|         null|           null|        null|               null|             null|       null|                   null|        null|                  null|             null|     null|                  null|                 null|                     null|                                              null|                                     null| null|      null|      null|          null|             null|     null|                null|                       null|           null|          null|          null|          null|       null|        null|      null|       null|        null|     null|         null|                                    null|          null|    null|              null|                 null|               null|                                 null|                  null|    null|                    null|            null|      null|            null|       null|       null|        null|        null|                null|     null|       null|    null|     null|         null|    null|      null|             null|          null|     null|                    null|              null|                  null|                null|           null|                null|    null|        null|            null|       null|  null|       null|               null|                null|    null|                null|         null|                         null|                       null|  null|              null|         null|          null|           null|                  null|      null|                null|           null|                                                          null|            null|                           null|                    null|                     null|                     null|              null|            null|                       null|          null|        null|       null|       null|                null|                 null|                 null|           null|                           null|                                       null|       null|                 null|     null|      null|               null|             null|               null|             null|                   null|        null|     null|               null|              null|                  null|          null|       null|         null|              null|                 null|          null|  null|        null|              null|            null|                    null|                      null|         null|           null|                  null|    null|       null|                  null|                    null|                  null|    null|         null|        null|                                          null|                          null|                          null|                     null|              null|     null|                       null|                      null|                       null|      null|                  null|                 null|                      null|         null|          null|         null|           null|           null|          null|     null|               null|       null|        null|       null|              null|                              null|                 null|         null|               null| null|        null|  null|\n",
      "|  spamd4-us-west.ap...|Hi ,\n",
      "\n",
      "I am trying...|multipart/alterna...|Thu, 9 May 2019 1...|mailing list user...|v=1; a=rsa-sha256...|SNEHASISH DUTTA <...|<mailto:user-help...|<user.spark.apach...|<mailto:user@spar...|<mailto:user-unsu...|contact user-help...|<CAJzj5MEbrsAXY33...|         1.0|     true|      bulk|by mail-it1-f169....|<user-return-7803...|Generic Dataset[T...|user <user@spark....|APjAAAUMA66MSnLjt...|   v=1; a=rsa-sha256...|APXvYqwIHcKOvsZRF...|apmail-spark-user...|by 2002:a02:6209:...|         NO|           *|       1.799|No, score=1.799 t...|Debian amavisd-ne...|                null|                null|                null|                     null|           null|            null|                null|                  null|                null|                null|                null|                               null|                       null|            null|                null|                             null|                     null|                            null|                                   null|                                      null|                        null|                                        null|                                         null|                       null|                                             null|           null|                                   null|                  null|                null|                      null|            null|           null|                      null|                 null|    null|                null|            null|                null|      null|                       null|                     null|                      null|         null|           null|        null|               null|             null|       null|                   null|        null|                  null|             null|     null|                  null|                 null|                     null|                                              null|                                     null| null|      null|      null|          null|             null|     null|                null|                       null|           null|          null|          null|          null|       null|        null|      null|       null|        null|     null|         null|                                    null|          null|    null|              null|                 null|               null|                                 null|                  null|    null|                    null|            null|      null|            null|       null|       null|        null|        null|                null|     null|       null|    null|     null|         null|    null|      null|             null|          null|     null|                    null|              null|                  null|                null|           null|                null|    null|        null|            null|       null|  null|       null|               null|                null|    null|                null|         null|                         null|                       null|  null|              null|         null|          null|           null|                  null|      null|                null|           null|                                                          null|            null|                           null|                    null|                     null|                     null|              null|            null|                       null|          null|        null|       null|       null|                null|                 null|                 null|           null|                           null|                                       null|       null|                 null|     null|      null|               null|             null|               null|             null|                   null|        null|     null|               null|              null|                  null|          null|       null|         null|              null|                 null|          null|  null|        null|              null|            null|                    null|                      null|         null|           null|                  null|    null|       null|                  null|                    null|                  null|    null|         null|        null|                                          null|                          null|                          null|                     null|              null|     null|                       null|                      null|                       null|      null|                  null|                 null|                      null|         null|          null|         null|           null|           null|          null|     null|               null|       null|        null|       null|              null|                              null|                 null|         null|               null| null|        null|  null|\n",
      "|  spamd3-us-west.ap...|Congrats\n",
      "\n",
      "The rea...|text/plain; chars...|Sat, 27 Jul 2019 ...|mailing list user...|v=1; a=rsa-sha256...|Nicolas Paris <ni...|<mailto:user-help...|<user.spark.apach...|<mailto:user@spar...|<mailto:user-unsu...|contact user-help...|<20190727202428.r...|         1.0|    false|      bulk|from [127.0.0.1] ...|<user-return-7869...|Re: New Spark Dat...|user@spark.apache...|                null|                   null|                null|apmail-spark-user...|                null|         NO|            |      -0.901|No, score=-0.901 ...|Debian amavisd-ne...|<CAEUkxvokmAs2768...|<CAEUkxvokmAs2768...|                null|                     8bit|           null|            null|Pass (mailfrom) i...|                  null|                null|                null|                null|                               null|                       null|            null|                null|                             null|                     null|                            null|                                   null|                                      null|                        null|                                        null|                                         null|                       null|                                             null|           null|                                   null|                  null|                null|                      null|            null|           null|                      null|                 null|    null|                null|            null|                null|      null|                       null|                     null|                      null|         null|           null|        null|               null|             null|       null|                   null|        null|                  null|             null|     null|                  null|                 null|                     null|                                              null|                                     null| null|      null|      null|          null|             null|     null|                null|                       null|           null|          null|          null|          null|       null|        null|      null|       null|        null|     null|         null|                                    null|          null|    null|              null|                 null|               null|                                 null|                  null|    null|                    null|            null|      null|            null|       null|       null|        null|        null|                null|     null|       null|    null|     null|         null|    null|      null|             null|          null|     null|                    null|              null|                  null|                null|           null|                null|    null|        null|            null|       null|  null|       null|             inline|user@spark.apache...|  normal|A44FA6C4547CE3813...|         null|                         null|                       null|  null|              null|         null|          null|           null|                  null|      null|                null|           null|                                                          null|            null|                           null|                    null|                     null|                     null|              null|            null|                       null|          null|        null|       null|       null|                null|                 null|                 null|           null|                           null|                                       null|       null|                 null|     null|      null|               null|             null|               null|             null|                   null|        null|     null|               null|              null|                  null|          null|       null|         null|              null|                 null|          null|  null|        null|              null|            null|                    null|                      null|         null|           null|                  null|    null|       null|                  null|                    null|                  null|    null|         null|        null|                                          null|                          null|                          null|                     null|              null|     null|                       null|                      null|                       null|      null|                  null|                 null|                      null|         null|          null|         null|           null|           null|          null|     null|               null|       null|        null|       null|              null|                              null|                 null|         null|               null| null|        null|  null|\n",
      "|  spamd4-us-west.ap...|>   • Scala/Java ...|text/plain; chars...|Tue, 6 Aug 2019 2...|mailing list user...|v=1; a=rsa-sha256...|Nicolas Paris <ni...|<mailto:user-help...|<user.spark.apach...|<mailto:user@spar...|<mailto:user-unsu...|contact user-help...|<20190806213739.4...|         1.0|    false|      bulk|from [127.0.0.1] ...|<user-return-7874...|Re: Announcing De...|Tathagata Das <td...|                null|                   null|                null|apmail-spark-user...|                null|         NO|            |      -0.401|No, score=-0.401 ...|Debian amavisd-ne...|<CA+AHuKmAhUar=7G...|<CA+AHuKmAhUar=7G...|Delta Lake Users ...|                     8bit|           null|            null|Pass (mailfrom) i...|                  null|                null|                null|                null|                               null|                       null|            null|                null|                             null|                     null|                            null|                                   null|                                      null|                        null|                                        null|                                         null|                       null|                                             null|           null|                                   null|                  null|                null|                      null|            null|           null|                      null|                 null|    null|                null|            null|                null|      null|                       null|                     null|                      null|         null|           null|        null|               null|             null|       null|                   null|        null|                  null|             null|     null|                  null|                 null|                     null|                                              null|                                     null| null|      null|      null|          null|             null|     null|                null|                       null|           null|          null|          null|          null|       null|        null|      null|       null|        null|     null|         null|                                    null|          null|    null|              null|                 null|               null|                                 null|                  null|    null|                    null|            null|      null|            null|       null|       null|        null|        null|                null|     null|       null|    null|     null|         null|    null|      null|             null|          null|     null|                    null|              null|                  null|                null|           null|                null|    null|        null|            null|       null|  null|       null|             inline|Tathagata Das <td...|  normal|A5F2BE6EE4D40D45B...|         null|                         null|                       null|  null|              null|         null|          null|           null|                  null|      null|                null|           null|                                                          null|            null|                           null|                    null|                     null|                     null|              null|            null|                       null|          null|        null|       null|       null|                null|                 null|                 null|           null|                           null|                                       null|       null|                 null|     null|      null|               null|             null|               null|             null|                   null|        null|     null|               null|              null|                  null|          null|       null|         null|              null|                 null|          null|  null|        null|              null|            null|                    null|                      null|         null|           null|                  null|    null|       null|                  null|                    null|                  null|    null|         null|        null|                                          null|                          null|                          null|                     null|              null|     null|                       null|                      null|                       null|      null|                  null|                 null|                      null|         null|          null|         null|           null|           null|          null|     null|               null|       null|        null|       null|              null|                              null|                 null|         null|               null| null|        null|  null|\n",
      "|  spamd3-us-west.ap...|I was running thi...|multipart/alterna...|Sun, 21 Jul 2019 ...|mailing list user...|v=1; a=rsa-sha256...|Stephen Boesch <j...|<mailto:user-help...|<user.spark.apach...|<mailto:user@spar...|<mailto:user-unsu...|contact user-help...|<CACkSZy23QnnCkzT...|         1.0|     true|      bulk|by mail-wm1-f65.g...|<user-return-7866...|Re: NoSuchMethodE...|xiaobo <guxiaobo1...|APjAAAWsD3yr5pACN...|   v=1; a=rsa-sha256...|APXvYqxxTbQ+76AsX...|apmail-spark-user...|by 2002:a1c:f918:...|         NO|           *|       1.802|No, score=1.802 t...|Debian amavisd-ne...|<CACkSZy3FAGTgd-3...|<tencent_60644D99...|\"user@spark.apach...|                     null|           null|            null|Pass (mailfrom) i...|                  null|                null|                null|                null|                               null|                       null|            null|                null|                             null|                     null|                            null|                                   null|                                      null|                        null|                                        null|                                         null|                       null|                                             null|           null|                                   null|                  null|                null|                      null|            null|           null|                      null|                 null|    null|                null|            null|                null|      null|                       null|                     null|                      null|         null|           null|        null|               null|             null|       null|                   null|        null|                  null|             null|     null|                  null|                 null|                     null|                                              null|                                     null| null|      null|      null|          null|             null|     null|                null|                       null|           null|          null|          null|          null|       null|        null|      null|       null|        null|     null|         null|                                    null|          null|    null|              null|                 null|               null|                                 null|                  null|    null|                    null|            null|      null|            null|       null|       null|        null|        null|                null|     null|       null|    null|     null|         null|    null|      null|             null|          null|     null|                    null|              null|                  null|                null|           null|                null|    null|        null|            null|       null|  null|       null|               null|                null|    null|                null|         null|                         null|                       null|  null|              null|         null|          null|           null|                  null|      null|                null|           null|                                                          null|            null|                           null|                    null|                     null|                     null|              null|            null|                       null|          null|        null|       null|       null|                null|                 null|                 null|           null|                           null|                                       null|       null|                 null|     null|      null|               null|             null|               null|             null|                   null|        null|     null|               null|              null|                  null|          null|       null|         null|              null|                 null|          null|  null|        null|              null|            null|                    null|                      null|         null|           null|                  null|    null|       null|                  null|                    null|                  null|    null|         null|        null|                                          null|                          null|                          null|                     null|              null|     null|                       null|                      null|                       null|      null|                  null|                 null|                      null|         null|          null|         null|           null|           null|          null|     null|               null|       null|        null|       null|              null|                              null|                 null|         null|               null| null|        null|  null|\n",
      "|  spamd2-us-west.ap...|How can I achieve...|multipart/alterna...|Tue, 9 Jul 2019 1...|mailing list user...|v=1; a=rsa-sha256...|Femi Anthony <fem...|<mailto:user-help...|<user.spark.apach...|<mailto:user@spar...|<mailto:user-unsu...|contact user-help...|<E1CDA679-7E3D-4C...|   1.0 (1.0)|     true|      bulk|from [10.1.1.40] ...|<user-return-7856...|Pass row to UDF a...|user@spark.apache...|APjAAAXYGwwgZmBhP...|   v=1; a=rsa-sha256...|APXvYqz3V8qY7GC0W...|apmail-spark-user...|by 2002:a37:4986:...|         NO|         ***|       3.094|No, score=3.094 t...|Debian amavisd-ne...|                null|                null|                null|                     7bit|           null|            null|Pass (mailfrom) i...|                  null|                null|                null|                null|                               null|                       null|            null|                null|                             null|                     null|                            null|                                   null|                                      null|                        null|                                        null|                                         null|                       null|                                             null|           null|                                   null|                  null|                null|                      null|            null|           null|                      null|                 null|    null|iPhone Mail (16F203)|            null|                null|      null|                       null|                     null|                      null|         null|           null|        null|               null|             null|       null|                   null|        null|                  null|             null|     null|                  null|                 null|                     null|                                              null|                                     null| null|      null|      null|          null|             null|     null|                null|                       null|           null|          null|          null|          null|       null|        null|      null|       null|        null|     null|         null|                                    null|          null|    null|              null|                 null|               null|                                 null|                  null|    null|                    null|            null|      null|            null|       null|       null|        null|        null|                null|     null|       null|    null|     null|         null|    null|      null|             null|          null|     null|                    null|              null|                  null|                null|           null|                null|    null|        null|            null|       null|  null|       null|               null|                null|    null|                null|         null|                         null|                       null|  null|              null|         null|          null|           null|                  null|      null|                null|           null|                                                          null|            null|                           null|                    null|                     null|                     null|              null|            null|                       null|          null|        null|       null|       null|                null|                 null|                 null|           null|                           null|                                       null|       null|                 null|     null|      null|               null|             null|               null|             null|                   null|        null|     null|               null|              null|                  null|          null|       null|         null|              null|                 null|          null|  null|        null|              null|            null|                    null|                      null|         null|           null|                  null|    null|       null|                  null|                    null|                  null|    null|         null|        null|                                          null|                          null|                          null|                     null|              null|     null|                       null|                      null|                       null|      null|                  null|                 null|                      null|         null|          null|         null|           null|           null|          null|     null|               null|       null|        null|       null|              null|                              null|                 null|         null|               null| null|        null|  null|\n",
      "|                  null|Hello, \n",
      "\n",
      "I've a q...|multipart/signed;...|Fri, 17 May 2019 ...|mailing list user...|                null|Antoine DUBOIS <a...|<mailto:user-help...|<user.spark.apach...|<mailto:user@spar...|<mailto:user-unsu...|contact user-help...|<1189165444.21944...|         1.0|     true|      bulk|from cczmbox08.in...|<user-return-7813...|     Spark streaming|user@spark.apache...|                null|                   null|                null|apmail-spark-user...|                null|         NO|            |         0.2|No, score=0.2 tag...|clamav-milter 0.1...|                null|                null|                null|                     null|           null|            null|                null|                  null|                null|rwXUjrkRP9rtMQuLd...|     Spark streaming|                               null|                       null|            null|                null|                             null|                     null|                            null|                                   null|                                      null|                        null|                                        null|                                         null|                       null|                                             null|           null|                                   null|                  null|                null|                      null|[134.158.231.80]|           null|                      null|                 null|    null|Zimbra 8.7.11_GA_...|            null|                null|      null|                       null|                     null|                      null|         null|           null|        null|               null|             null|       null|                   null|        null|                  null|             null|     null|                  null|                 null|                     null|                                              null|                                     null| null|      null|      null|          null|             null|     null|                null|                       null|           null|          null|          null|          null|       null|        null|      null|       null|        null|     null|         null|                                    null|         Clean|    null|              null|                 null|               null|                                 null|                  null|    null|                    null|            null|      null|            null|       null|       null|        null|        null|                null|     null|       null|    null|     null|         null|    null|      null|             null|          null|     null|                    null|              null|                  null|                null|           null|                null|    null|        null|            null|       null|  null|       null|               null|                null|    null|                null|         null|                         null|                       null|  null|              null|         null|          null|           null|                  null|      null|                null|           null|                                                          null|            null|                           null|                    null|                     null|                     null|              null|            null|                       null|          null|        null|       null|       null|                null|                 null|                 null|           null|                           null|                                       null|       null|                 null|     null|      null|               null|             null|               null|             null|                   null|        null|     null|               null|              null|                  null|          null|       null|         null|              null|                 null|          null|  null|        null|              null|            null|                    null|                      null|         null|           null|                  null|    null|       null|                  null|                    null|                  null|    null|         null|        null|                                          null|                          null|                          null|                     null|              null|     null|                       null|                      null|                       null|      null|                  null|                 null|                      null|         null|          null|         null|           null|           null|          null|     null|               null|       null|        null|       null|              null|                              null|                 null|         null|               null| null|        null|  null|\n",
      "|                  null|Hi Anastasios\n",
      "\n",
      "On...|text/plain; chars...|Tue, 14 May 2019 ...|mailing list user...|                null|Joe Ammann <joe@p...|<mailto:user-help...|<user.spark.apach...|<mailto:user@spar...|<mailto:user-unsu...|contact user-help...|<e4f2f43d-c0a8-e1...|         1.0|    false|      bulk|from orchis.pyx.c...|<user-return-7808...|Re: Handling of w...|   zouzias@gmail.com|                null|                   null|                null|apmail-spark-user...|                null|         NO|           *|       1.001|No, score=1.001 t...|Debian amavisd-ne...|<CACmKW8V9vQT7R+F...|<571bb838-7f86-a7...|user <user@spark....|                     8bit|           null|           de-CH|                null|                  null|                null|                null|                null|                               null|                       null|            null|                null|                             null|                     null|                            null|                                   null|                                      null|                        null|                                        null|                                         null|                       null|                                             null|           null|                                   null|                  null|                null|                      null|            null|           null|                      null|                 null|    null|                null|            null|Mozilla/5.0 (X11;...|      null|                       null|                     null|                      null|         null|           null|        null|               null|             null|       null|                   null|        null|                  null|             null|     null|                  null|                 null|                     null|                                              null|                                     null| null|      null|      null|          null|             null|     null|                null|                       null|           null|          null|          null|          null|       null|        null|      null|       null|        null|     null|         null|                                    null|          null|    null|              null|                 null|               null|                                 null|                  null|    null|                    null|            null|      null|            null|       null|       null|        null|        null|                null|     null|       null|    null|     null|         null|    null|      null|             null|          null|     null|                    null|              null|                  null|preference=signen...|           null|                null|    null|        null|            null|       null|  null|       null|               null|                null|    null|                null|         null|                         null|                       null|  null|Pyx Engineering AG|         null|          null|           null|                  null|      null|Sender succeeded ...|           null|                                                          null|            null|                           null|                    null|                     null|                     null|              null|            null|                       null|          null|        null|       null|       null|addr=joe@pyx.ch; ...|                 null|                 null|           null|                           null|                                       null|       null|                 null|     null|      null|               null|             null|               null|             null|                   null|        null|     null|               null|              null|                  null|          null|       null|         null|              null|                 null|          null|  null|        null|              null|            null|                    null|                      null|         null|           null|                  null|    null|       null|                  null|                    null|                  null|    null|         null|        null|                                          null|                          null|                          null|                     null|              null|     null|                       null|                      null|                       null|      null|                  null|                 null|                      null|         null|          null|         null|           null|           null|          null|     null|               null|       null|        null|       null|              null|                              null|                 null|         null|               null| null|        null|  null|\n",
      "+----------------------+--------------------+--------------------+--------------------+--------------------+--------------------+--------------------+--------------------+--------------------+--------------------+--------------------+--------------------+--------------------+------------+---------+----------+--------------------+--------------------+--------------------+--------------------+--------------------+-----------------------+--------------------+--------------------+--------------------+-----------+------------+------------+--------------------+--------------------+--------------------+--------------------+--------------------+-------------------------+---------------+----------------+--------------------+----------------------+--------------------+--------------------+--------------------+-----------------------------------+---------------------------+----------------+--------------------+---------------------------------+-------------------------+--------------------------------+---------------------------------------+------------------------------------------+----------------------------+--------------------------------------------+---------------------------------------------+---------------------------+-------------------------------------------------+---------------+---------------------------------------+----------------------+--------------------+--------------------------+----------------+---------------+--------------------------+---------------------+--------+--------------------+----------------+--------------------+----------+---------------------------+-------------------------+--------------------------+-------------+---------------+------------+-------------------+-----------------+-----------+-----------------------+------------+----------------------+-----------------+---------+----------------------+---------------------+-------------------------+--------------------------------------------------+-----------------------------------------+-----+----------+----------+--------------+-----------------+---------+--------------------+---------------------------+---------------+--------------+--------------+--------------+-----------+------------+----------+-----------+------------+---------+-------------+----------------------------------------+--------------+--------+------------------+---------------------+-------------------+-------------------------------------+----------------------+--------+------------------------+----------------+----------+----------------+-----------+-----------+------------+------------+--------------------+---------+-----------+--------+---------+-------------+--------+----------+-----------------+--------------+---------+------------------------+------------------+----------------------+--------------------+---------------+--------------------+--------+------------+----------------+-----------+------+-----------+-------------------+--------------------+--------+--------------------+-------------+-----------------------------+---------------------------+------+------------------+-------------+--------------+---------------+----------------------+----------+--------------------+---------------+--------------------------------------------------------------+----------------+-------------------------------+------------------------+-------------------------+-------------------------+------------------+----------------+---------------------------+--------------+------------+-----------+-----------+--------------------+---------------------+---------------------+---------------+-------------------------------+-------------------------------------------+-----------+---------------------+---------+----------+-------------------+-----------------+-------------------+-----------------+-----------------------+------------+---------+-------------------+------------------+----------------------+--------------+-----------+-------------+------------------+---------------------+--------------+------+------------+------------------+----------------+------------------------+--------------------------+-------------+---------------+----------------------+--------+-----------+----------------------+------------------------+----------------------+--------+-------------+------------+----------------------------------------------+------------------------------+------------------------------+-------------------------+------------------+---------+---------------------------+--------------------------+---------------------------+----------+----------------------+---------------------+--------------------------+-------------+--------------+-------------+---------------+---------------+--------------+---------+-------------------+-----------+------------+-----------+------------------+----------------------------------+---------------------+-------------+-------------------+-----+------------+------+\n",
      "only showing top 20 rows\n",
      "\n"
     ]
    }
   ],
   "source": [
    "spark_mailing_list_data.show()"
   ]
  },
  {
   "cell_type": "code",
   "execution_count": 20,
   "metadata": {},
   "outputs": [
    {
     "name": "stdout",
     "output_type": "stream",
     "text": [
      "root\n",
      " |-- authentication-results: string (nullable = true)\n",
      " |-- body: string (nullable = true)\n",
      " |-- content-type: string (nullable = true)\n",
      " |-- date: string (nullable = true)\n",
      " |-- delivered-to: string (nullable = true)\n",
      " |-- dkim-signature: string (nullable = true)\n",
      " |-- from: string (nullable = true)\n",
      " |-- list-help: string (nullable = true)\n",
      " |-- list-id: string (nullable = true)\n",
      " |-- list-post: string (nullable = true)\n",
      " |-- list-unsubscribe: string (nullable = true)\n",
      " |-- mailing-list: string (nullable = true)\n",
      " |-- message-id: string (nullable = true)\n",
      " |-- mime-version: string (nullable = true)\n",
      " |-- multipart: boolean (nullable = true)\n",
      " |-- precedence: string (nullable = true)\n",
      " |-- received: string (nullable = true)\n",
      " |-- return-path: string (nullable = true)\n",
      " |-- subject: string (nullable = true)\n",
      " |-- to: string (nullable = true)\n",
      " |-- x-gm-message-state: string (nullable = true)\n",
      " |-- x-google-dkim-signature: string (nullable = true)\n",
      " |-- x-google-smtp-source: string (nullable = true)\n",
      " |-- x-original-to: string (nullable = true)\n",
      " |-- x-received: string (nullable = true)\n",
      " |-- x-spam-flag: string (nullable = true)\n",
      " |-- x-spam-level: string (nullable = true)\n",
      " |-- x-spam-score: string (nullable = true)\n",
      " |-- x-spam-status: string (nullable = true)\n",
      " |-- x-virus-scanned: string (nullable = true)\n",
      " |-- in-reply-to: string (nullable = true)\n",
      " |-- references: string (nullable = true)\n",
      " |-- cc: string (nullable = true)\n",
      " |-- content-transfer-encoding: string (nullable = true)\n",
      " |-- accept-language: string (nullable = true)\n",
      " |-- content-language: string (nullable = true)\n",
      " |-- received-spf: string (nullable = true)\n",
      " |-- spamdiagnosticmetadata: string (nullable = true)\n",
      " |-- spamdiagnosticoutput: string (nullable = true)\n",
      " |-- thread-index: string (nullable = true)\n",
      " |-- thread-topic: string (nullable = true)\n",
      " |-- x-exchange-antispam-report-cfa-test: string (nullable = true)\n",
      " |-- x-forefront-antispam-report: string (nullable = true)\n",
      " |-- x-forefront-prvs: string (nullable = true)\n",
      " |-- x-microsoft-antispam: string (nullable = true)\n",
      " |-- x-microsoft-antispam-message-info: string (nullable = true)\n",
      " |-- x-microsoft-antispam-prvs: string (nullable = true)\n",
      " |-- x-microsoft-exchange-diagnostics: string (nullable = true)\n",
      " |-- x-ms-exchange-antispam-srfa-diagnostics: string (nullable = true)\n",
      " |-- x-ms-exchange-crosstenant-fromentityheader: string (nullable = true)\n",
      " |-- x-ms-exchange-crosstenant-id: string (nullable = true)\n",
      " |-- x-ms-exchange-crosstenant-network-message-id: string (nullable = true)\n",
      " |-- x-ms-exchange-crosstenant-originalarrivaltime: string (nullable = true)\n",
      " |-- x-ms-exchange-senderadcheck: string (nullable = true)\n",
      " |-- x-ms-exchange-transport-crosstenantheadersstamped: string (nullable = true)\n",
      " |-- x-ms-has-attach: string (nullable = true)\n",
      " |-- x-ms-office365-filtering-correlation-id: string (nullable = true)\n",
      " |-- x-ms-publictraffictype: string (nullable = true)\n",
      " |-- x-ms-tnef-correlator: string (nullable = true)\n",
      " |-- x-ms-traffictypediagnostic: string (nullable = true)\n",
      " |-- x-originating-ip: string (nullable = true)\n",
      " |-- x-originatororg: string (nullable = true)\n",
      " |-- arc-authentication-results: string (nullable = true)\n",
      " |-- arc-message-signature: string (nullable = true)\n",
      " |-- arc-seal: string (nullable = true)\n",
      " |-- x-mailer: string (nullable = true)\n",
      " |-- x-zohomailclient: string (nullable = true)\n",
      " |-- user-agent: string (nullable = true)\n",
      " |-- x-priority: string (nullable = true)\n",
      " |-- x-ms-office365-filtering-ht: string (nullable = true)\n",
      " |-- x-proofpoint-spam-details: string (nullable = true)\n",
      " |-- x-proofpoint-virus-version: string (nullable = true)\n",
      " |-- x-cm-ctrldata: string (nullable = true)\n",
      " |-- x-cm-senderinfo: string (nullable = true)\n",
      " |-- x-cm-transid: string (nullable = true)\n",
      " |-- x-coremail-antispam: string (nullable = true)\n",
      " |-- x-coremail-locale: string (nullable = true)\n",
      " |-- msip_labels: string (nullable = true)\n",
      " |-- x-ms-exchange-purlcount: string (nullable = true)\n",
      " |-- x-provags-id: string (nullable = true)\n",
      " |-- x-ui-out-filterresults: string (nullable = true)\n",
      " |-- x-ui-sender-class: string (nullable = true)\n",
      " |-- x-orig-ip: string (nullable = true)\n",
      " |-- x-eopattributedmessage: string (nullable = true)\n",
      " |-- x-incomingheadercount: string (nullable = true)\n",
      " |-- x-incomingtopheadermarker: string (nullable = true)\n",
      " |-- x-ms-exchange-crosstenant-rms-persistedconsumerorg: string (nullable = true)\n",
      " |-- x-ms-exchange-messagesentrepresentingtype: string (nullable = true)\n",
      " |-- x-tmn: string (nullable = true)\n",
      " |-- content-id: string (nullable = true)\n",
      " |-- x-spam-bar: string (nullable = true)\n",
      " |-- x-spam-details: string (nullable = true)\n",
      " |-- x-spam-origsender: string (nullable = true)\n",
      " |-- x-auditid: string (nullable = true)\n",
      " |-- x-brightmail-tracker: string (nullable = true)\n",
      " |-- x-gmail-original-message-id: string (nullable = true)\n",
      " |-- x-ovh-tracer-id: string (nullable = true)\n",
      " |-- x-vr-spamcause: string (nullable = true)\n",
      " |-- x-vr-spamscore: string (nullable = true)\n",
      " |-- x-vr-spamstate: string (nullable = true)\n",
      " |-- x-ymail-osg: string (nullable = true)\n",
      " |-- x-disclaimed: string (nullable = true)\n",
      " |-- x-keepsent: string (nullable = true)\n",
      " |-- x-mimetrack: string (nullable = true)\n",
      " |-- ironport-sdr: string (nullable = true)\n",
      " |-- x-fireeye: string (nullable = true)\n",
      " |-- x-ironport-av: string (nullable = true)\n",
      " |-- x-ms-exchange-transport-fromentityheader: string (nullable = true)\n",
      " |-- x-virus-status: string (nullable = true)\n",
      " |-- reply-to: string (nullable = true)\n",
      " |-- x-alimail-antispam: string (nullable = true)\n",
      " |-- x-aliyun-mail-creator: string (nullable = true)\n",
      " |-- domainkey-signature: string (nullable = true)\n",
      " |-- x-ms-exchange-crosstenant-mailboxtype: string (nullable = true)\n",
      " |-- x-afnotificationdomain: string (nullable = true)\n",
      " |-- x-ppscan: string (nullable = true)\n",
      " |-- x-proofpoint-spam-reason: string (nullable = true)\n",
      " |-- x-me-personality: string (nullable = true)\n",
      " |-- x-me-proxy: string (nullable = true)\n",
      " |-- x-me-proxy-cause: string (nullable = true)\n",
      " |-- x-me-sender: string (nullable = true)\n",
      " |-- feedback-id: string (nullable = true)\n",
      " |-- x-has-attach: string (nullable = true)\n",
      " |-- x-qq-bgrelay: string (nullable = true)\n",
      " |-- x-qq-business-origin: string (nullable = true)\n",
      " |-- x-qq-feat: string (nullable = true)\n",
      " |-- x-qq-mailer: string (nullable = true)\n",
      " |-- x-qq-mid: string (nullable = true)\n",
      " |-- x-qq-mime: string (nullable = true)\n",
      " |-- x-qq-sendsize: string (nullable = true)\n",
      " |-- x-qq-ssf: string (nullable = true)\n",
      " |-- x-qq-style: string (nullable = true)\n",
      " |-- x-clientproxiedby: string (nullable = true)\n",
      " |-- x-cfilter-loop: string (nullable = true)\n",
      " |-- x-wiganss: string (nullable = true)\n",
      " |-- x-callingtelephonenumber: string (nullable = true)\n",
      " |-- x-faxnumberofpages: string (nullable = true)\n",
      " |-- x-voicemessageduration: string (nullable = true)\n",
      " |-- openpgp: string (nullable = true)\n",
      " |-- x-xfinity-vmeta: string (nullable = true)\n",
      " |-- x-readdle-message-id: string (nullable = true)\n",
      " |-- x-esetid: string (nullable = true)\n",
      " |-- x-esetresult: string (nullable = true)\n",
      " |-- x-ppp-message-id: string (nullable = true)\n",
      " |-- x-ppp-vhost: string (nullable = true)\n",
      " |-- x-guid: string (nullable = true)\n",
      " |-- x-qq-goodbg: string (nullable = true)\n",
      " |-- content-disposition: string (nullable = true)\n",
      " |-- mail-followup-to: string (nullable = true)\n",
      " |-- priority: string (nullable = true)\n",
      " |-- x-riseup-user-id: string (nullable = true)\n",
      " |-- x-ipas-result: string (nullable = true)\n",
      " |-- x-ironport-anti-spam-filtered: string (nullable = true)\n",
      " |-- x-ironport-anti-spam-result: string (nullable = true)\n",
      " |-- x-sbrs: string (nullable = true)\n",
      " |-- organization: string (nullable = true)\n",
      " |-- ironport-phdr: string (nullable = true)\n",
      " |-- x-ld-processed: string (nullable = true)\n",
      " |-- x-outbound-node: string (nullable = true)\n",
      " |-- x-outbound-smtp-client: string (nullable = true)\n",
      " |-- importance: string (nullable = true)\n",
      " |-- x-greylist: string (nullable = true)\n",
      " |-- x-ics-auth-info: string (nullable = true)\n",
      " |-- x-ms-exchange-crosstenant-originalattributedtenantconnectingip: string (nullable = true)\n",
      " |-- x-apple-base-url: string (nullable = true)\n",
      " |-- x-apple-mail-remote-attachments: string (nullable = true)\n",
      " |-- x-apple-windows-friendly: string (nullable = true)\n",
      " |-- x-uniform-type-identifier: string (nullable = true)\n",
      " |-- x-is-generated-message-id: string (nullable = true)\n",
      " |-- x-local-message-id: string (nullable = true)\n",
      " |-- x-referenced-uid: string (nullable = true)\n",
      " |-- x-ms-oob-tlc-oobclassifiers: string (nullable = true)\n",
      " |-- x-xfinity-vaas: string (nullable = true)\n",
      " |-- x-attachtype: string (nullable = true)\n",
      " |-- x-origfiles: string (nullable = true)\n",
      " |-- x-origsizes: string (nullable = true)\n",
      " |-- autocrypt: string (nullable = true)\n",
      " |-- x-exclaimer-md-config: string (nullable = true)\n",
      " |-- x-superhuman-draft-id: string (nullable = true)\n",
      " |-- x-superhuman-id: string (nullable = true)\n",
      " |-- x-microsoft-original-message-id: string (nullable = true)\n",
      " |-- x-ms-exchange-crosstenant-userprincipalname: string (nullable = true)\n",
      " |-- x-mc-unique: string (nullable = true)\n",
      " |-- x-mimecast-spam-score: string (nullable = true)\n",
      " |-- x-forward: string (nullable = true)\n",
      " |-- x-gbs-proc: string (nullable = true)\n",
      " |-- x-tbonedomainsigned: string (nullable = true)\n",
      " |-- x-tboneoriginalcc: string (nullable = true)\n",
      " |-- x-tboneoriginalfrom: string (nullable = true)\n",
      " |-- x-tboneoriginalto: string (nullable = true)\n",
      " |-- x-o365-sonar-daas-pilot: string (nullable = true)\n",
      " |-- x-env-sender: string (nullable = true)\n",
      " |-- x-msg-ref: string (nullable = true)\n",
      " |-- x-starscan-received: string (nullable = true)\n",
      " |-- x-starscan-version: string (nullable = true)\n",
      " |-- x-symc-ess-client-auth: string (nullable = true)\n",
      " |-- x-viruschecked: string (nullable = true)\n",
      " |-- dkim-filter: string (nullable = true)\n",
      " |-- x-nifty-srcip: string (nullable = true)\n",
      " |-- x-msw-jemd-malware: string (nullable = true)\n",
      " |-- x-msw-jemd-newsletter: string (nullable = true)\n",
      " |-- x-qq-replyhash: string (nullable = true)\n",
      " |-- x-cbid: string (nullable = true)\n",
      " |-- x-cbparentid: string (nullable = true)\n",
      " |-- x-ibm-av-detection: string (nullable = true)\n",
      " |-- x-ibm-av-version: string (nullable = true)\n",
      " |-- x-ibm-spammodules-scores: string (nullable = true)\n",
      " |-- x-ibm-spammodules-versions: string (nullable = true)\n",
      " |-- x-llnoutbound: string (nullable = true)\n",
      " |-- x-tnefevaluated: string (nullable = true)\n",
      " |-- x-google-original-date: string (nullable = true)\n",
      " |-- x-sender: string (nullable = true)\n",
      " |-- x-antiabuse: string (nullable = true)\n",
      " |-- x-authenticated-sender: string (nullable = true)\n",
      " |-- x-get-message-sender-via: string (nullable = true)\n",
      " |-- x-outgoing-spam-status: string (nullable = true)\n",
      " |-- x-source: string (nullable = true)\n",
      " |-- x-source-args: string (nullable = true)\n",
      " |-- x-source-dir: string (nullable = true)\n",
      " |-- x-ms-exchange-organization-recordreviewcfmtype: string (nullable = true)\n",
      " |-- x-ms-exchange-organization-scl: string (nullable = true)\n",
      " |-- x-ms-exchange-transport-forked: string (nullable = true)\n",
      " |-- x-bess-apparent-source-ip: string (nullable = true)\n",
      " |-- x-bess-brts-status: string (nullable = true)\n",
      " |-- x-bess-id: string (nullable = true)\n",
      " |-- x-bess-outbound-spam-report: string (nullable = true)\n",
      " |-- x-bess-outbound-spam-score: string (nullable = true)\n",
      " |-- x-bess-outbound-spam-status: string (nullable = true)\n",
      " |-- x-bess-ver: string (nullable = true)\n",
      " |-- x-source-routing-agent: string (nullable = true)\n",
      " |-- x-attachment-filename: string (nullable = true)\n",
      " |-- x-url-lookup-scanningerror: string (nullable = true)\n",
      " |-- x-conf-footer: string (nullable = true)\n",
      " |-- x-ip-vfilter-r: string (nullable = true)\n",
      " |-- x-cm-draft-id: string (nullable = true)\n",
      " |-- x-cm-message-id: string (nullable = true)\n",
      " |-- x-cmae-envelope: string (nullable = true)\n",
      " |-- x-asf-dkim-sig: string (nullable = true)\n",
      " |-- toscandlp: string (nullable = true)\n",
      " |-- x-titus-metadata-40: string (nullable = true)\n",
      " |-- x-untrusted: string (nullable = true)\n",
      " |-- x-amp-result: string (nullable = true)\n",
      " |-- x-antivirus: string (nullable = true)\n",
      " |-- x-antivirus-status: string (nullable = true)\n",
      " |-- x-ms-exchange-antispam-messagedata: string (nullable = true)\n",
      " |-- x-mimecast-originator: string (nullable = true)\n",
      " |-- x-rcis-action: string (nullable = true)\n",
      " |-- x-amp-file-uploaded: string (nullable = true)\n",
      " |-- x-hat: string (nullable = true)\n",
      " |-- x-mailpolicy: string (nullable = true)\n",
      " |-- x-srbs: string (nullable = true)\n",
      "\n"
     ]
    }
   ],
   "source": [
    "spark_mailing_list_data.printSchema()"
   ]
  },
  {
   "cell_type": "code",
   "execution_count": 21,
   "metadata": {},
   "outputs": [],
   "source": [
    "def extract_date_from_email_datefield(datefield):\n",
    "    if datefield is None:\n",
    "        return None\n",
    "    from datetime import datetime\n",
    "    import time\n",
    "    import email.utils\n",
    "    parsed_date = email.utils.parsedate(datefield)\n",
    "    return datetime.fromtimestamp(time.mktime((parsed_date)))\n",
    "\n",
    "\n",
    "extract_date_from_email_datefield_udf = UserDefinedFunction(\n",
    "    extract_date_from_email_datefield, StringType(), \"extract_date_from_email_datefield\")\n",
    "\n",
    "session.catalog._jsparkSession.udf().registerPython(\n",
    "    \"extract_date_from_email_datefield\",\n",
    "    extract_date_from_email_datefield_udf._judf)"
   ]
  },
  {
   "cell_type": "code",
   "execution_count": 22,
   "metadata": {},
   "outputs": [],
   "source": [
    "spark_mailing_list_data_with_date = spark_mailing_list_data.select(\n",
    "    \"*\",\n",
    "    extract_date_from_email_datefield_udf(spark_mailing_list_data[\"Date\"]).alias(\"email_date\"))"
   ]
  },
  {
   "cell_type": "code",
   "execution_count": 23,
   "metadata": {},
   "outputs": [
    {
     "data": {
      "text/plain": [
       "[Row(Date='Tue, 30 Apr 2019 19:14:57 +0530', email_date='java.util.GregorianCalendar[time=?,areFieldsSet=false,areAllFieldsSet=false,lenient=true,zone=sun.util.calendar.ZoneInfo[id=\"Etc/UTC\",offset=0,dstSavings=0,useDaylight=false,transitions=0,lastRule=null],firstDayOfWeek=1,minimalDaysInFirstWeek=1,ERA=?,YEAR=2019,MONTH=3,WEEK_OF_YEAR=?,WEEK_OF_MONTH=?,DAY_OF_MONTH=30,DAY_OF_YEAR=?,DAY_OF_WEEK=?,DAY_OF_WEEK_IN_MONTH=?,AM_PM=1,HOUR=7,HOUR_OF_DAY=19,MINUTE=14,SECOND=57,MILLISECOND=0,ZONE_OFFSET=?,DST_OFFSET=?]'),\n",
       " Row(Date='Sun, 10 Mar 2019 11:54:05 -0700', email_date='java.util.GregorianCalendar[time=?,areFieldsSet=false,areAllFieldsSet=false,lenient=true,zone=sun.util.calendar.ZoneInfo[id=\"Etc/UTC\",offset=0,dstSavings=0,useDaylight=false,transitions=0,lastRule=null],firstDayOfWeek=1,minimalDaysInFirstWeek=1,ERA=?,YEAR=2019,MONTH=2,WEEK_OF_YEAR=?,WEEK_OF_MONTH=?,DAY_OF_MONTH=10,DAY_OF_YEAR=?,DAY_OF_WEEK=?,DAY_OF_WEEK_IN_MONTH=?,AM_PM=0,HOUR=11,HOUR_OF_DAY=11,MINUTE=54,SECOND=5,MILLISECOND=0,ZONE_OFFSET=?,DST_OFFSET=?]')]"
      ]
     },
     "execution_count": 23,
     "metadata": {},
     "output_type": "execute_result"
    }
   ],
   "source": [
    "# Manually verify that our date parser is looking ok\n",
    "spark_mailing_list_data.select(spark_mailing_list_data[\"Date\"],\n",
    "                               extract_date_from_email_datefield_udf(spark_mailing_list_data[\"Date\"]).alias(\"email_date\")\n",
    "                              ).take(2)"
   ]
  },
  {
   "cell_type": "code",
   "execution_count": 24,
   "metadata": {},
   "outputs": [],
   "source": [
    "mailing_list_posts_in_reply_to = spark_mailing_list_data_with_date.filter(\n",
    "    spark_mailing_list_data[\"In-Reply-To\"].isNotNull()).alias(\"mailing_list_posts_in_reply_to\")\n",
    "initial_posts = spark_mailing_list_data_with_date.filter(\n",
    "    spark_mailing_list_data[\"In-Reply-To\"].isNull()).alias(\"initial_posts\").cache()"
   ]
  },
  {
   "cell_type": "code",
   "execution_count": 25,
   "metadata": {},
   "outputs": [
    {
     "data": {
      "text/plain": [
       "981"
      ]
     },
     "execution_count": 25,
     "metadata": {},
     "output_type": "execute_result"
    }
   ],
   "source": [
    "# See how many start-of-thread posts we have\n",
    "initial_posts.count()"
   ]
  },
  {
   "cell_type": "code",
   "execution_count": 26,
   "metadata": {},
   "outputs": [],
   "source": [
    "ids_in_reply = mailing_list_posts_in_reply_to.select(\"In-Reply-To\", \"message-id\")"
   ]
  },
  {
   "cell_type": "code",
   "execution_count": 27,
   "metadata": {},
   "outputs": [],
   "source": [
    "# Ok now it's time to save these\n",
    "initial_posts.write.format(\"parquet\").mode('overwrite').save(fs_prefix + \"/initial_posts\")\n",
    "ids_in_reply.write.format(\"parquet\").mode('overwrite').save(fs_prefix + \"/ids_in_reply\")"
   ]
  },
  {
   "cell_type": "code",
   "execution_count": 28,
   "metadata": {},
   "outputs": [],
   "source": [
    "session.stop()"
   ]
  },
  {
   "cell_type": "code",
   "execution_count": null,
   "metadata": {},
   "outputs": [],
   "source": []
  }
 ],
 "metadata": {
  "kernelspec": {
   "display_name": "Python 3",
   "language": "python",
   "name": "python3"
  },
  "language_info": {
   "codemirror_mode": {
    "name": "ipython",
    "version": 3
   },
   "file_extension": ".py",
   "mimetype": "text/x-python",
   "name": "python",
   "nbconvert_exporter": "python",
   "pygments_lexer": "ipython3",
   "version": "3.6.9"
  }
 },
 "nbformat": 4,
 "nbformat_minor": 2
}
