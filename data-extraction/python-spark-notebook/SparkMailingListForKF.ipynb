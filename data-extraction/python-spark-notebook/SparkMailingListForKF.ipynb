{
 "cells": [
  {
   "cell_type": "code",
   "execution_count": 1,
   "metadata": {},
   "outputs": [],
   "source": [
    "# Yes we need both these imports\n",
    "from pyspark.sql import SparkSession\n",
    "from pyspark.sql.functions import col, to_date\n",
    "from pyspark.sql.types import *\n",
    "from pyspark.sql.types import StructField, StructType\n",
    "from pyspark.sql.catalog import UserDefinedFunction\n",
    "import os"
   ]
  },
  {
   "cell_type": "code",
   "execution_count": null,
   "metadata": {},
   "outputs": [],
   "source": []
  },
  {
   "cell_type": "code",
   "execution_count": 2,
   "metadata": {},
   "outputs": [],
   "source": [
    "fs_prefix = \"s3a://mailinglists/\" # Create with mc as in ch1"
   ]
  },
  {
   "cell_type": "code",
   "execution_count": 3,
   "metadata": {},
   "outputs": [],
   "source": [
    "os.environ[\"PYSPARK_PYTHON\"] = \"python3.6\"\n",
    "# See https://medium.com/@szinck/setting-up-pyspark-jupyter-and-minio-on-kubeflow-kubernetes-aab98874794f\n",
    "session = (SparkSession.builder\n",
    "           .appName(\"fetchMailingListData\")\n",
    "           .config(\"spark.executor.instances\", \"8\")\n",
    "           .config(\"spark.driver.memoryOverhead\", \"0.25\")\n",
    "           .config(\"spark.executor.memory\", \"6g\")\n",
    "           .config(\"spark.dynamicAllocation.enabled\", \"false\")\n",
    "           .config(\"spark.ui.enabled\", \"true\")\n",
    "           .config(\"spark.kubernetes.container.image\",\n",
    "                   \"gcr.io/boos-demo-projects-are-rad/kubeflow/spark-worker/spark-py-36:v3.0.0-preview2-22\")\n",
    "           .config(\"spark.driver.bindAddress\", \"0.0.0.0\")\n",
    "           .config(\"spark.kubernetes.namespace\", \"kubeflow-programmerboo\")\n",
    "           .config(\"spark.master\", \"k8s://https://kubernetes.default\")\n",
    "           .config(\"spark.driver.host\", \"spark-driver.kubeflow-programmerboo.svc.cluster.local\")\n",
    "           .config(\"spark.kubernetes.executor.annotation.sidecar.istio.io/inject\", \"false\")\n",
    "           .config(\"spark.driver.port\", \"39235\")\n",
    "           .config(\"spark.blockManager.port\", \"39236\")\n",
    "            # If using minio - see https://github.com/minio/cookbook/blob/master/docs/apache-spark-with-minio.md\n",
    "           .config(\"spark.hadoop.fs.s3a.endpoint\", \"minio-service.kubeflow.svc.cluster.local:9000\")\n",
    "           .config(\"fs.s3a.connection.ssl.enabled\", \"false\")\n",
    "           .config(\"fs.s3a.path.style.access\", \"true\")\n",
    "           # You can also add an account using the minio command as described in chapter 1\n",
    "           .config(\"spark.hadoop.fs.s3a.access.key\", \"minio\")\n",
    "           .config(\"spark.hadoop.fs.s3a.secret.key\", \"minio123\")\n",
    "          ).getOrCreate()\n",
    "sc = session.sparkContext"
   ]
  },
  {
   "cell_type": "code",
   "execution_count": 4,
   "metadata": {},
   "outputs": [],
   "source": [
    "# Data fetch pipeline: Download mailing list data"
   ]
  },
  {
   "cell_type": "code",
   "execution_count": 5,
   "metadata": {},
   "outputs": [],
   "source": [
    "list_name=\"spark-user\""
   ]
  },
  {
   "cell_type": "code",
   "execution_count": 6,
   "metadata": {},
   "outputs": [],
   "source": [
    "mailing_list_template=\"http://mail-archives.apache.org/mod_mbox/{list_name}/{date}.mbox\""
   ]
  },
  {
   "cell_type": "code",
   "execution_count": 7,
   "metadata": {},
   "outputs": [],
   "source": [
    "# Generate the possible dates"
   ]
  },
  {
   "cell_type": "code",
   "execution_count": 8,
   "metadata": {},
   "outputs": [],
   "source": [
    "start_year=2020 # Change to 2002 once you've verified\n",
    "end_year=2021\n",
    "dates = [\"{:d}{:02d}\".format(year, month) for year in range(start_year, end_year) for month in range (1,12)]"
   ]
  },
  {
   "cell_type": "code",
   "execution_count": 9,
   "metadata": {},
   "outputs": [],
   "source": [
    "def download_emails(date):\n",
    "    import subprocess\n",
    "    from mailbox import mbox\n",
    "    import os\n",
    "    mbox_filename = \"{date}.mbox\".format(date=date)\n",
    "    url=mailing_list_template.format(list_name=list_name,date=date)\n",
    "    subprocess.call([\"wget\", url])\n",
    "    # Skip years that don't exist\n",
    "    if not os.path.exists(mbox_filename):\n",
    "        return []\n",
    "    mail = mbox(mbox_filename.format(date=date), create=False)\n",
    "    # LC the keys since the casing is non-consistent\n",
    "    emails = list(map(lambda message: dict((k.lower(), v) for k, v in message.items()),\n",
    "                                          mail.itervalues()))\n",
    "    os.remove(mbox_filename)\n",
    "    return emails"
   ]
  },
  {
   "cell_type": "code",
   "execution_count": 10,
   "metadata": {},
   "outputs": [],
   "source": [
    "# Optional: test that it works locally\n",
    "# download_emails(\"202001\")"
   ]
  },
  {
   "cell_type": "code",
   "execution_count": 11,
   "metadata": {},
   "outputs": [],
   "source": [
    "emails_rdd = sc.parallelize(dates).flatMap(download_emails).cache()"
   ]
  },
  {
   "cell_type": "code",
   "execution_count": 12,
   "metadata": {},
   "outputs": [
    {
     "data": {
      "text/plain": [
       "263"
      ]
     },
     "execution_count": 12,
     "metadata": {},
     "output_type": "execute_result"
    }
   ],
   "source": [
    "emails_rdd.count()"
   ]
  },
  {
   "cell_type": "code",
   "execution_count": 13,
   "metadata": {},
   "outputs": [
    {
     "name": "stderr",
     "output_type": "stream",
     "text": [
      "/opt/spark/python/pyspark/sql/session.py:395: UserWarning: Using RDD of dict to inferSchema is deprecated. Use pyspark.sql.Row instead\n",
      "  warnings.warn(\"Using RDD of dict to inferSchema is deprecated. \"\n"
     ]
    }
   ],
   "source": [
    "mailing_list_posts_mbox_df = emails_rdd.toDF(sampleRatio=1.0)"
   ]
  },
  {
   "cell_type": "markdown",
   "metadata": {},
   "source": []
  },
  {
   "cell_type": "code",
   "execution_count": 14,
   "metadata": {},
   "outputs": [
    {
     "data": {
      "text/plain": [
       "DataFrame[accept-language: string, arc-authentication-results: string, arc-message-signature: string, arc-seal: string, authentication-results: string, cc: string, content-language: string, content-type: string, date: string, delivered-to: string, dkim-signature: string, from: string, list-help: string, list-id: string, list-post: string, list-unsubscribe: string, mailing-list: string, message-id: string, mime-version: string, precedence: string, received: string, received-spf: string, return-path: string, subject: string, thread-index: string, thread-topic: string, to: string, x-forefront-antispam-report: string, x-forefront-prvs: string, x-microsoft-antispam: string, x-microsoft-antispam-message-info: string, x-microsoft-antispam-prvs: string, x-ms-exchange-crosstenant-fromentityheader: string, x-ms-exchange-crosstenant-id: string, x-ms-exchange-crosstenant-mailboxtype: string, x-ms-exchange-crosstenant-network-message-id: string, x-ms-exchange-crosstenant-originalarrivaltime: string, x-ms-exchange-crosstenant-userprincipalname: string, x-ms-exchange-senderadcheck: string, x-ms-exchange-transport-crosstenantheadersstamped: string, x-ms-exchange-transport-forked: string, x-ms-has-attach: string, x-ms-office365-filtering-correlation-id: string, x-ms-office365-filtering-ht: string, x-ms-oob-tlc-oobclassifiers: string, x-ms-publictraffictype: string, x-ms-tnef-correlator: string, x-ms-traffictypediagnostic: string, x-original-to: string, x-originating-ip: string, x-originatororg: string, x-spam-flag: string, x-spam-level: string, x-spam-score: string, x-spam-status: string, x-virus-scanned: string, in-reply-to: string, references: string, x-gm-message-state: string, x-google-dkim-signature: string, x-google-smtp-source: string, x-received: string, content-transfer-encoding: string, user-agent: string, x-amp-result: string, x-antivirus: string, x-antivirus-status: string, x-provags-id: string, x-ui-out-filterresults: string, x-eopattributedmessage: string, x-incomingheadercount: string, x-incomingtopheadermarker: string, x-ms-exchange-antispam-messagedata: string, x-ms-exchange-crosstenant-rms-persistedconsumerorg: string, x-ms-exchange-messagesentrepresentingtype: string, x-tmn: string, x-mailer: string, x-gmail-original-message-id: string, reply-to: string, x-asf-dkim-sig: string, organization: string, content-disposition: string, mail-followup-to: string, priority: string, x-riseup-user-id: string, x-mc-unique: string, x-mimecast-originator: string, x-mimecast-spam-score: string, x-priority: string, x-sender: string, x-auditid: string, x-brightmail-tracker: string, x-ms-exchange-transport-fromentityheader: string, x-rcis-action: string, x-virus-status: string, x-clientproxiedby: string, x-microsoft-original-message-id: string, x-proofpoint-spam-details: string, x-proofpoint-virus-version: string, ironport-sdr: string, x-amp-file-uploaded: string, x-hat: string, x-mailpolicy: string, x-srbs: string, x-cm-senderinfo: string, x-cm-transid: string, x-coremail-antispam: string, x-coremail-locale: string]"
      ]
     },
     "execution_count": 14,
     "metadata": {},
     "output_type": "execute_result"
    }
   ],
   "source": [
    "mailing_list_posts_mbox_df.cache()"
   ]
  },
  {
   "cell_type": "code",
   "execution_count": 15,
   "metadata": {},
   "outputs": [
    {
     "data": {
      "text/plain": [
       "[Row(list-id='<user.spark.apache.org>', In-Reply-To=None),\n",
       " Row(list-id='<user.spark.apache.org>', In-Reply-To='\\n <VI1PR07MB3520B3B51F6643C085171A0281200@VI1PR07MB3520.eurprd07.prod.outlook.com>'),\n",
       " Row(list-id='<user.spark.apache.org>', In-Reply-To='<1577751363377-0.post@n3.nabble.com>'),\n",
       " Row(list-id='<user.spark.apache.org>', In-Reply-To=None),\n",
       " Row(list-id='<user.spark.apache.org>', In-Reply-To=None)]"
      ]
     },
     "execution_count": 15,
     "metadata": {},
     "output_type": "execute_result"
    }
   ],
   "source": [
    "mailing_list_posts_mbox_df.select(\"list-id\", \"In-Reply-To\").take(5)"
   ]
  },
  {
   "cell_type": "code",
   "execution_count": 16,
   "metadata": {},
   "outputs": [],
   "source": [
    "spark_mailing_list_data = mailing_list_posts_mbox_df.filter(\n",
    "    mailing_list_posts_mbox_df[\"list-id\"] == \"<user.spark.incubator.apache.org>\").repartition(60).cache()"
   ]
  },
  {
   "cell_type": "code",
   "execution_count": 17,
   "metadata": {},
   "outputs": [
    {
     "name": "stdout",
     "output_type": "stream",
     "text": [
      "+---------------+--------------------------+---------------------+--------+----------------------+---+----------------+------------+----+------------+--------------+----+---------+-------+---------+----------------+------------+----------+------------+----------+--------+------------+-----------+-------+------------+------------+---+---------------------------+----------------+--------------------+---------------------------------+-------------------------+------------------------------------------+----------------------------+-------------------------------------+--------------------------------------------+---------------------------------------------+-------------------------------------------+---------------------------+-------------------------------------------------+------------------------------+---------------+---------------------------------------+---------------------------+---------------------------+----------------------+--------------------+--------------------------+-------------+----------------+---------------+-----------+------------+------------+-------------+---------------+-----------+----------+------------------+-----------------------+--------------------+----------+-------------------------+----------+------------+-----------+------------------+------------+----------------------+----------------------+---------------------+-------------------------+----------------------------------+--------------------------------------------------+-----------------------------------------+-----+--------+---------------------------+--------+--------------+------------+-------------------+----------------+--------+----------------+-----------+---------------------+---------------------+----------+--------+---------+--------------------+----------------------------------------+-------------+--------------+-----------------+-------------------------------+-------------------------+--------------------------+------------+-------------------+-----+------------+------+---------------+------------+-------------------+-----------------+\n",
      "|accept-language|arc-authentication-results|arc-message-signature|arc-seal|authentication-results| cc|content-language|content-type|date|delivered-to|dkim-signature|from|list-help|list-id|list-post|list-unsubscribe|mailing-list|message-id|mime-version|precedence|received|received-spf|return-path|subject|thread-index|thread-topic| to|x-forefront-antispam-report|x-forefront-prvs|x-microsoft-antispam|x-microsoft-antispam-message-info|x-microsoft-antispam-prvs|x-ms-exchange-crosstenant-fromentityheader|x-ms-exchange-crosstenant-id|x-ms-exchange-crosstenant-mailboxtype|x-ms-exchange-crosstenant-network-message-id|x-ms-exchange-crosstenant-originalarrivaltime|x-ms-exchange-crosstenant-userprincipalname|x-ms-exchange-senderadcheck|x-ms-exchange-transport-crosstenantheadersstamped|x-ms-exchange-transport-forked|x-ms-has-attach|x-ms-office365-filtering-correlation-id|x-ms-office365-filtering-ht|x-ms-oob-tlc-oobclassifiers|x-ms-publictraffictype|x-ms-tnef-correlator|x-ms-traffictypediagnostic|x-original-to|x-originating-ip|x-originatororg|x-spam-flag|x-spam-level|x-spam-score|x-spam-status|x-virus-scanned|in-reply-to|references|x-gm-message-state|x-google-dkim-signature|x-google-smtp-source|x-received|content-transfer-encoding|user-agent|x-amp-result|x-antivirus|x-antivirus-status|x-provags-id|x-ui-out-filterresults|x-eopattributedmessage|x-incomingheadercount|x-incomingtopheadermarker|x-ms-exchange-antispam-messagedata|x-ms-exchange-crosstenant-rms-persistedconsumerorg|x-ms-exchange-messagesentrepresentingtype|x-tmn|x-mailer|x-gmail-original-message-id|reply-to|x-asf-dkim-sig|organization|content-disposition|mail-followup-to|priority|x-riseup-user-id|x-mc-unique|x-mimecast-originator|x-mimecast-spam-score|x-priority|x-sender|x-auditid|x-brightmail-tracker|x-ms-exchange-transport-fromentityheader|x-rcis-action|x-virus-status|x-clientproxiedby|x-microsoft-original-message-id|x-proofpoint-spam-details|x-proofpoint-virus-version|ironport-sdr|x-amp-file-uploaded|x-hat|x-mailpolicy|x-srbs|x-cm-senderinfo|x-cm-transid|x-coremail-antispam|x-coremail-locale|\n",
      "+---------------+--------------------------+---------------------+--------+----------------------+---+----------------+------------+----+------------+--------------+----+---------+-------+---------+----------------+------------+----------+------------+----------+--------+------------+-----------+-------+------------+------------+---+---------------------------+----------------+--------------------+---------------------------------+-------------------------+------------------------------------------+----------------------------+-------------------------------------+--------------------------------------------+---------------------------------------------+-------------------------------------------+---------------------------+-------------------------------------------------+------------------------------+---------------+---------------------------------------+---------------------------+---------------------------+----------------------+--------------------+--------------------------+-------------+----------------+---------------+-----------+------------+------------+-------------+---------------+-----------+----------+------------------+-----------------------+--------------------+----------+-------------------------+----------+------------+-----------+------------------+------------+----------------------+----------------------+---------------------+-------------------------+----------------------------------+--------------------------------------------------+-----------------------------------------+-----+--------+---------------------------+--------+--------------+------------+-------------------+----------------+--------+----------------+-----------+---------------------+---------------------+----------+--------+---------+--------------------+----------------------------------------+-------------+--------------+-----------------+-------------------------------+-------------------------+--------------------------+------------+-------------------+-----+------------+------+---------------+------------+-------------------+-----------------+\n",
      "+---------------+--------------------------+---------------------+--------+----------------------+---+----------------+------------+----+------------+--------------+----+---------+-------+---------+----------------+------------+----------+------------+----------+--------+------------+-----------+-------+------------+------------+---+---------------------------+----------------+--------------------+---------------------------------+-------------------------+------------------------------------------+----------------------------+-------------------------------------+--------------------------------------------+---------------------------------------------+-------------------------------------------+---------------------------+-------------------------------------------------+------------------------------+---------------+---------------------------------------+---------------------------+---------------------------+----------------------+--------------------+--------------------------+-------------+----------------+---------------+-----------+------------+------------+-------------+---------------+-----------+----------+------------------+-----------------------+--------------------+----------+-------------------------+----------+------------+-----------+------------------+------------+----------------------+----------------------+---------------------+-------------------------+----------------------------------+--------------------------------------------------+-----------------------------------------+-----+--------+---------------------------+--------+--------------+------------+-------------------+----------------+--------+----------------+-----------+---------------------+---------------------+----------+--------+---------+--------------------+----------------------------------------+-------------+--------------+-----------------+-------------------------------+-------------------------+--------------------------+------------+-------------------+-----+------------+------+---------------+------------+-------------------+-----------------+\n",
      "\n"
     ]
    }
   ],
   "source": [
    "spark_mailing_list_data.show()"
   ]
  },
  {
   "cell_type": "code",
   "execution_count": 18,
   "metadata": {},
   "outputs": [
    {
     "name": "stdout",
     "output_type": "stream",
     "text": [
      "root\n",
      " |-- accept-language: string (nullable = true)\n",
      " |-- arc-authentication-results: string (nullable = true)\n",
      " |-- arc-message-signature: string (nullable = true)\n",
      " |-- arc-seal: string (nullable = true)\n",
      " |-- authentication-results: string (nullable = true)\n",
      " |-- cc: string (nullable = true)\n",
      " |-- content-language: string (nullable = true)\n",
      " |-- content-type: string (nullable = true)\n",
      " |-- date: string (nullable = true)\n",
      " |-- delivered-to: string (nullable = true)\n",
      " |-- dkim-signature: string (nullable = true)\n",
      " |-- from: string (nullable = true)\n",
      " |-- list-help: string (nullable = true)\n",
      " |-- list-id: string (nullable = true)\n",
      " |-- list-post: string (nullable = true)\n",
      " |-- list-unsubscribe: string (nullable = true)\n",
      " |-- mailing-list: string (nullable = true)\n",
      " |-- message-id: string (nullable = true)\n",
      " |-- mime-version: string (nullable = true)\n",
      " |-- precedence: string (nullable = true)\n",
      " |-- received: string (nullable = true)\n",
      " |-- received-spf: string (nullable = true)\n",
      " |-- return-path: string (nullable = true)\n",
      " |-- subject: string (nullable = true)\n",
      " |-- thread-index: string (nullable = true)\n",
      " |-- thread-topic: string (nullable = true)\n",
      " |-- to: string (nullable = true)\n",
      " |-- x-forefront-antispam-report: string (nullable = true)\n",
      " |-- x-forefront-prvs: string (nullable = true)\n",
      " |-- x-microsoft-antispam: string (nullable = true)\n",
      " |-- x-microsoft-antispam-message-info: string (nullable = true)\n",
      " |-- x-microsoft-antispam-prvs: string (nullable = true)\n",
      " |-- x-ms-exchange-crosstenant-fromentityheader: string (nullable = true)\n",
      " |-- x-ms-exchange-crosstenant-id: string (nullable = true)\n",
      " |-- x-ms-exchange-crosstenant-mailboxtype: string (nullable = true)\n",
      " |-- x-ms-exchange-crosstenant-network-message-id: string (nullable = true)\n",
      " |-- x-ms-exchange-crosstenant-originalarrivaltime: string (nullable = true)\n",
      " |-- x-ms-exchange-crosstenant-userprincipalname: string (nullable = true)\n",
      " |-- x-ms-exchange-senderadcheck: string (nullable = true)\n",
      " |-- x-ms-exchange-transport-crosstenantheadersstamped: string (nullable = true)\n",
      " |-- x-ms-exchange-transport-forked: string (nullable = true)\n",
      " |-- x-ms-has-attach: string (nullable = true)\n",
      " |-- x-ms-office365-filtering-correlation-id: string (nullable = true)\n",
      " |-- x-ms-office365-filtering-ht: string (nullable = true)\n",
      " |-- x-ms-oob-tlc-oobclassifiers: string (nullable = true)\n",
      " |-- x-ms-publictraffictype: string (nullable = true)\n",
      " |-- x-ms-tnef-correlator: string (nullable = true)\n",
      " |-- x-ms-traffictypediagnostic: string (nullable = true)\n",
      " |-- x-original-to: string (nullable = true)\n",
      " |-- x-originating-ip: string (nullable = true)\n",
      " |-- x-originatororg: string (nullable = true)\n",
      " |-- x-spam-flag: string (nullable = true)\n",
      " |-- x-spam-level: string (nullable = true)\n",
      " |-- x-spam-score: string (nullable = true)\n",
      " |-- x-spam-status: string (nullable = true)\n",
      " |-- x-virus-scanned: string (nullable = true)\n",
      " |-- in-reply-to: string (nullable = true)\n",
      " |-- references: string (nullable = true)\n",
      " |-- x-gm-message-state: string (nullable = true)\n",
      " |-- x-google-dkim-signature: string (nullable = true)\n",
      " |-- x-google-smtp-source: string (nullable = true)\n",
      " |-- x-received: string (nullable = true)\n",
      " |-- content-transfer-encoding: string (nullable = true)\n",
      " |-- user-agent: string (nullable = true)\n",
      " |-- x-amp-result: string (nullable = true)\n",
      " |-- x-antivirus: string (nullable = true)\n",
      " |-- x-antivirus-status: string (nullable = true)\n",
      " |-- x-provags-id: string (nullable = true)\n",
      " |-- x-ui-out-filterresults: string (nullable = true)\n",
      " |-- x-eopattributedmessage: string (nullable = true)\n",
      " |-- x-incomingheadercount: string (nullable = true)\n",
      " |-- x-incomingtopheadermarker: string (nullable = true)\n",
      " |-- x-ms-exchange-antispam-messagedata: string (nullable = true)\n",
      " |-- x-ms-exchange-crosstenant-rms-persistedconsumerorg: string (nullable = true)\n",
      " |-- x-ms-exchange-messagesentrepresentingtype: string (nullable = true)\n",
      " |-- x-tmn: string (nullable = true)\n",
      " |-- x-mailer: string (nullable = true)\n",
      " |-- x-gmail-original-message-id: string (nullable = true)\n",
      " |-- reply-to: string (nullable = true)\n",
      " |-- x-asf-dkim-sig: string (nullable = true)\n",
      " |-- organization: string (nullable = true)\n",
      " |-- content-disposition: string (nullable = true)\n",
      " |-- mail-followup-to: string (nullable = true)\n",
      " |-- priority: string (nullable = true)\n",
      " |-- x-riseup-user-id: string (nullable = true)\n",
      " |-- x-mc-unique: string (nullable = true)\n",
      " |-- x-mimecast-originator: string (nullable = true)\n",
      " |-- x-mimecast-spam-score: string (nullable = true)\n",
      " |-- x-priority: string (nullable = true)\n",
      " |-- x-sender: string (nullable = true)\n",
      " |-- x-auditid: string (nullable = true)\n",
      " |-- x-brightmail-tracker: string (nullable = true)\n",
      " |-- x-ms-exchange-transport-fromentityheader: string (nullable = true)\n",
      " |-- x-rcis-action: string (nullable = true)\n",
      " |-- x-virus-status: string (nullable = true)\n",
      " |-- x-clientproxiedby: string (nullable = true)\n",
      " |-- x-microsoft-original-message-id: string (nullable = true)\n",
      " |-- x-proofpoint-spam-details: string (nullable = true)\n",
      " |-- x-proofpoint-virus-version: string (nullable = true)\n",
      " |-- ironport-sdr: string (nullable = true)\n",
      " |-- x-amp-file-uploaded: string (nullable = true)\n",
      " |-- x-hat: string (nullable = true)\n",
      " |-- x-mailpolicy: string (nullable = true)\n",
      " |-- x-srbs: string (nullable = true)\n",
      " |-- x-cm-senderinfo: string (nullable = true)\n",
      " |-- x-cm-transid: string (nullable = true)\n",
      " |-- x-coremail-antispam: string (nullable = true)\n",
      " |-- x-coremail-locale: string (nullable = true)\n",
      "\n"
     ]
    }
   ],
   "source": [
    "spark_mailing_list_data.printSchema()"
   ]
  },
  {
   "cell_type": "code",
   "execution_count": 19,
   "metadata": {},
   "outputs": [],
   "source": [
    "def extract_date_from_email_datefield(datefield):\n",
    "    if datefield is None:\n",
    "        return None\n",
    "    from datetime import datetime\n",
    "    import time\n",
    "    import email.utils\n",
    "    parsed_date = email.utils.parsedate(datefield)\n",
    "    return datetime.fromtimestamp(time.mktime((parsed_date)))\n",
    "\n",
    "\n",
    "extract_date_from_email_datefield_udf = UserDefinedFunction(\n",
    "    extract_date_from_email_datefield, StringType(), \"extract_date_from_email_datefield\")\n",
    "\n",
    "session.catalog._jsparkSession.udf().registerPython(\n",
    "    \"extract_date_from_email_datefield\",\n",
    "    extract_date_from_email_datefield_udf._judf)"
   ]
  },
  {
   "cell_type": "code",
   "execution_count": 20,
   "metadata": {},
   "outputs": [
    {
     "data": {
      "text/plain": [
       "[]"
      ]
     },
     "execution_count": 20,
     "metadata": {},
     "output_type": "execute_result"
    }
   ],
   "source": [
    "# Manually verify that our date parser is looking ok\n",
    "spark_mailing_list_data.select(spark_mailing_list_data[\"Date\"],\n",
    "                               extract_date_from_email_datefield_udf(spark_mailing_list_data[\"Date\"]).alias(\"email_date\"),\n",
    "                               to_date(spark_mailing_list_data[\"Date\"])).take(5)"
   ]
  },
  {
   "cell_type": "code",
   "execution_count": 21,
   "metadata": {},
   "outputs": [],
   "source": [
    "mailing_list_posts_in_reply_to = spark_mailing_list_data.filter(\n",
    "    spark_mailing_list_data[\"In-Reply-To\"].isNotNull()).alias(\"mailing_list_posts_in_reply_to\")\n",
    "initial_posts = spark_mailing_list_data.filter(\n",
    "    spark_mailing_list_data[\"In-Reply-To\"].isNull()).alias(\"initial_posts\").cache()"
   ]
  },
  {
   "cell_type": "code",
   "execution_count": 22,
   "metadata": {},
   "outputs": [
    {
     "data": {
      "text/plain": [
       "0"
      ]
     },
     "execution_count": 22,
     "metadata": {},
     "output_type": "execute_result"
    }
   ],
   "source": [
    "# See how many start-of-thread posts we have\n",
    "initial_posts.count()"
   ]
  },
  {
   "cell_type": "code",
   "execution_count": 23,
   "metadata": {},
   "outputs": [
    {
     "data": {
      "text/plain": [
       "[]"
      ]
     },
     "execution_count": 23,
     "metadata": {},
     "output_type": "execute_result"
    }
   ],
   "source": [
    "mailing_list_posts_in_reply_to.select(\"In-Reply-To\").take(10)"
   ]
  },
  {
   "cell_type": "code",
   "execution_count": 24,
   "metadata": {},
   "outputs": [
    {
     "ename": "Py4JJavaError",
     "evalue": "An error occurred while calling o242.save.\n: java.lang.NoClassDefFoundError: com/amazonaws/services/s3/model/MultiObjectDeleteException\n\tat java.lang.Class.forName0(Native Method)\n\tat java.lang.Class.forName(Class.java:348)\n\tat org.apache.hadoop.conf.Configuration.getClassByNameOrNull(Configuration.java:2532)\n\tat org.apache.hadoop.conf.Configuration.getClassByName(Configuration.java:2497)\n\tat org.apache.hadoop.conf.Configuration.getClass(Configuration.java:2593)\n\tat org.apache.hadoop.fs.FileSystem.getFileSystemClass(FileSystem.java:3269)\n\tat org.apache.hadoop.fs.FileSystem.createFileSystem(FileSystem.java:3301)\n\tat org.apache.hadoop.fs.FileSystem.access$200(FileSystem.java:124)\n\tat org.apache.hadoop.fs.FileSystem$Cache.getInternal(FileSystem.java:3352)\n\tat org.apache.hadoop.fs.FileSystem$Cache.get(FileSystem.java:3320)\n\tat org.apache.hadoop.fs.FileSystem.get(FileSystem.java:479)\n\tat org.apache.hadoop.fs.Path.getFileSystem(Path.java:361)\n\tat org.apache.spark.sql.execution.datasources.DataSource.planForWritingFileFormat(DataSource.scala:452)\n\tat org.apache.spark.sql.execution.datasources.DataSource.planForWriting(DataSource.scala:552)\n\tat org.apache.spark.sql.DataFrameWriter.saveToV1Source(DataFrameWriter.scala:309)\n\tat org.apache.spark.sql.DataFrameWriter.save(DataFrameWriter.scala:293)\n\tat org.apache.spark.sql.DataFrameWriter.save(DataFrameWriter.scala:236)\n\tat sun.reflect.NativeMethodAccessorImpl.invoke0(Native Method)\n\tat sun.reflect.NativeMethodAccessorImpl.invoke(NativeMethodAccessorImpl.java:62)\n\tat sun.reflect.DelegatingMethodAccessorImpl.invoke(DelegatingMethodAccessorImpl.java:43)\n\tat java.lang.reflect.Method.invoke(Method.java:498)\n\tat py4j.reflection.MethodInvoker.invoke(MethodInvoker.java:244)\n\tat py4j.reflection.ReflectionEngine.invoke(ReflectionEngine.java:357)\n\tat py4j.Gateway.invoke(Gateway.java:282)\n\tat py4j.commands.AbstractCommand.invokeMethod(AbstractCommand.java:132)\n\tat py4j.commands.CallCommand.execute(CallCommand.java:79)\n\tat py4j.GatewayConnection.run(GatewayConnection.java:238)\n\tat java.lang.Thread.run(Thread.java:748)\nCaused by: java.lang.ClassNotFoundException: com.amazonaws.services.s3.model.MultiObjectDeleteException\n\tat java.net.URLClassLoader.findClass(URLClassLoader.java:382)\n\tat java.lang.ClassLoader.loadClass(ClassLoader.java:419)\n\tat sun.misc.Launcher$AppClassLoader.loadClass(Launcher.java:352)\n\tat java.lang.ClassLoader.loadClass(ClassLoader.java:352)\n\t... 28 more\n",
     "output_type": "error",
     "traceback": [
      "\u001b[0;31m---------------------------------------------------------------------------\u001b[0m",
      "\u001b[0;31mPy4JJavaError\u001b[0m                             Traceback (most recent call last)",
      "\u001b[0;32m<ipython-input-24-0426aff6a6a0>\u001b[0m in \u001b[0;36m<module>\u001b[0;34m\u001b[0m\n\u001b[1;32m      1\u001b[0m \u001b[0;31m# Ok now it's time to save these\u001b[0m\u001b[0;34m\u001b[0m\u001b[0;34m\u001b[0m\u001b[0;34m\u001b[0m\u001b[0m\n\u001b[0;32m----> 2\u001b[0;31m \u001b[0minitial_posts\u001b[0m\u001b[0;34m.\u001b[0m\u001b[0mwrite\u001b[0m\u001b[0;34m.\u001b[0m\u001b[0mformat\u001b[0m\u001b[0;34m(\u001b[0m\u001b[0;34m\"parquet\"\u001b[0m\u001b[0;34m)\u001b[0m\u001b[0;34m.\u001b[0m\u001b[0msave\u001b[0m\u001b[0;34m(\u001b[0m\u001b[0mfs_prefix\u001b[0m \u001b[0;34m+\u001b[0m \u001b[0;34m\"/initial_posts\"\u001b[0m\u001b[0;34m)\u001b[0m\u001b[0;34m\u001b[0m\u001b[0;34m\u001b[0m\u001b[0m\n\u001b[0m\u001b[1;32m      3\u001b[0m \u001b[0mmailing_list_posts_in_reply_to\u001b[0m\u001b[0;34m.\u001b[0m\u001b[0mwrite\u001b[0m\u001b[0;34m.\u001b[0m\u001b[0mformat\u001b[0m\u001b[0;34m(\u001b[0m\u001b[0;34m\"parquet\"\u001b[0m\u001b[0;34m)\u001b[0m\u001b[0;34m.\u001b[0m\u001b[0msave\u001b[0m\u001b[0;34m(\u001b[0m\u001b[0mfs_prefix\u001b[0m \u001b[0;34m+\u001b[0m \u001b[0;34m\"/initial_posts\"\u001b[0m\u001b[0;34m)\u001b[0m\u001b[0;34m\u001b[0m\u001b[0;34m\u001b[0m\u001b[0m\n",
      "\u001b[0;32m/opt/spark/python/pyspark/sql/readwriter.py\u001b[0m in \u001b[0;36msave\u001b[0;34m(self, path, format, mode, partitionBy, **options)\u001b[0m\n\u001b[1;32m    767\u001b[0m             \u001b[0mself\u001b[0m\u001b[0;34m.\u001b[0m\u001b[0m_jwrite\u001b[0m\u001b[0;34m.\u001b[0m\u001b[0msave\u001b[0m\u001b[0;34m(\u001b[0m\u001b[0;34m)\u001b[0m\u001b[0;34m\u001b[0m\u001b[0;34m\u001b[0m\u001b[0m\n\u001b[1;32m    768\u001b[0m         \u001b[0;32melse\u001b[0m\u001b[0;34m:\u001b[0m\u001b[0;34m\u001b[0m\u001b[0;34m\u001b[0m\u001b[0m\n\u001b[0;32m--> 769\u001b[0;31m             \u001b[0mself\u001b[0m\u001b[0;34m.\u001b[0m\u001b[0m_jwrite\u001b[0m\u001b[0;34m.\u001b[0m\u001b[0msave\u001b[0m\u001b[0;34m(\u001b[0m\u001b[0mpath\u001b[0m\u001b[0;34m)\u001b[0m\u001b[0;34m\u001b[0m\u001b[0;34m\u001b[0m\u001b[0m\n\u001b[0m\u001b[1;32m    770\u001b[0m \u001b[0;34m\u001b[0m\u001b[0m\n\u001b[1;32m    771\u001b[0m     \u001b[0;34m@\u001b[0m\u001b[0msince\u001b[0m\u001b[0;34m(\u001b[0m\u001b[0;36m1.4\u001b[0m\u001b[0;34m)\u001b[0m\u001b[0;34m\u001b[0m\u001b[0;34m\u001b[0m\u001b[0m\n",
      "\u001b[0;32m/usr/local/lib/python3.6/dist-packages/py4j/java_gateway.py\u001b[0m in \u001b[0;36m__call__\u001b[0;34m(self, *args)\u001b[0m\n\u001b[1;32m   1284\u001b[0m         \u001b[0manswer\u001b[0m \u001b[0;34m=\u001b[0m \u001b[0mself\u001b[0m\u001b[0;34m.\u001b[0m\u001b[0mgateway_client\u001b[0m\u001b[0;34m.\u001b[0m\u001b[0msend_command\u001b[0m\u001b[0;34m(\u001b[0m\u001b[0mcommand\u001b[0m\u001b[0;34m)\u001b[0m\u001b[0;34m\u001b[0m\u001b[0;34m\u001b[0m\u001b[0m\n\u001b[1;32m   1285\u001b[0m         return_value = get_return_value(\n\u001b[0;32m-> 1286\u001b[0;31m             answer, self.gateway_client, self.target_id, self.name)\n\u001b[0m\u001b[1;32m   1287\u001b[0m \u001b[0;34m\u001b[0m\u001b[0m\n\u001b[1;32m   1288\u001b[0m         \u001b[0;32mfor\u001b[0m \u001b[0mtemp_arg\u001b[0m \u001b[0;32min\u001b[0m \u001b[0mtemp_args\u001b[0m\u001b[0;34m:\u001b[0m\u001b[0;34m\u001b[0m\u001b[0;34m\u001b[0m\u001b[0m\n",
      "\u001b[0;32m/opt/spark/python/pyspark/sql/utils.py\u001b[0m in \u001b[0;36mdeco\u001b[0;34m(*a, **kw)\u001b[0m\n\u001b[1;32m     96\u001b[0m     \u001b[0;32mdef\u001b[0m \u001b[0mdeco\u001b[0m\u001b[0;34m(\u001b[0m\u001b[0;34m*\u001b[0m\u001b[0ma\u001b[0m\u001b[0;34m,\u001b[0m \u001b[0;34m**\u001b[0m\u001b[0mkw\u001b[0m\u001b[0;34m)\u001b[0m\u001b[0;34m:\u001b[0m\u001b[0;34m\u001b[0m\u001b[0;34m\u001b[0m\u001b[0m\n\u001b[1;32m     97\u001b[0m         \u001b[0;32mtry\u001b[0m\u001b[0;34m:\u001b[0m\u001b[0;34m\u001b[0m\u001b[0;34m\u001b[0m\u001b[0m\n\u001b[0;32m---> 98\u001b[0;31m             \u001b[0;32mreturn\u001b[0m \u001b[0mf\u001b[0m\u001b[0;34m(\u001b[0m\u001b[0;34m*\u001b[0m\u001b[0ma\u001b[0m\u001b[0;34m,\u001b[0m \u001b[0;34m**\u001b[0m\u001b[0mkw\u001b[0m\u001b[0;34m)\u001b[0m\u001b[0;34m\u001b[0m\u001b[0;34m\u001b[0m\u001b[0m\n\u001b[0m\u001b[1;32m     99\u001b[0m         \u001b[0;32mexcept\u001b[0m \u001b[0mpy4j\u001b[0m\u001b[0;34m.\u001b[0m\u001b[0mprotocol\u001b[0m\u001b[0;34m.\u001b[0m\u001b[0mPy4JJavaError\u001b[0m \u001b[0;32mas\u001b[0m \u001b[0me\u001b[0m\u001b[0;34m:\u001b[0m\u001b[0;34m\u001b[0m\u001b[0;34m\u001b[0m\u001b[0m\n\u001b[1;32m    100\u001b[0m             \u001b[0mconverted\u001b[0m \u001b[0;34m=\u001b[0m \u001b[0mconvert_exception\u001b[0m\u001b[0;34m(\u001b[0m\u001b[0me\u001b[0m\u001b[0;34m.\u001b[0m\u001b[0mjava_exception\u001b[0m\u001b[0;34m)\u001b[0m\u001b[0;34m\u001b[0m\u001b[0;34m\u001b[0m\u001b[0m\n",
      "\u001b[0;32m/usr/local/lib/python3.6/dist-packages/py4j/protocol.py\u001b[0m in \u001b[0;36mget_return_value\u001b[0;34m(answer, gateway_client, target_id, name)\u001b[0m\n\u001b[1;32m    326\u001b[0m                 raise Py4JJavaError(\n\u001b[1;32m    327\u001b[0m                     \u001b[0;34m\"An error occurred while calling {0}{1}{2}.\\n\"\u001b[0m\u001b[0;34m.\u001b[0m\u001b[0;34m\u001b[0m\u001b[0;34m\u001b[0m\u001b[0m\n\u001b[0;32m--> 328\u001b[0;31m                     format(target_id, \".\", name), value)\n\u001b[0m\u001b[1;32m    329\u001b[0m             \u001b[0;32melse\u001b[0m\u001b[0;34m:\u001b[0m\u001b[0;34m\u001b[0m\u001b[0;34m\u001b[0m\u001b[0m\n\u001b[1;32m    330\u001b[0m                 raise Py4JError(\n",
      "\u001b[0;31mPy4JJavaError\u001b[0m: An error occurred while calling o242.save.\n: java.lang.NoClassDefFoundError: com/amazonaws/services/s3/model/MultiObjectDeleteException\n\tat java.lang.Class.forName0(Native Method)\n\tat java.lang.Class.forName(Class.java:348)\n\tat org.apache.hadoop.conf.Configuration.getClassByNameOrNull(Configuration.java:2532)\n\tat org.apache.hadoop.conf.Configuration.getClassByName(Configuration.java:2497)\n\tat org.apache.hadoop.conf.Configuration.getClass(Configuration.java:2593)\n\tat org.apache.hadoop.fs.FileSystem.getFileSystemClass(FileSystem.java:3269)\n\tat org.apache.hadoop.fs.FileSystem.createFileSystem(FileSystem.java:3301)\n\tat org.apache.hadoop.fs.FileSystem.access$200(FileSystem.java:124)\n\tat org.apache.hadoop.fs.FileSystem$Cache.getInternal(FileSystem.java:3352)\n\tat org.apache.hadoop.fs.FileSystem$Cache.get(FileSystem.java:3320)\n\tat org.apache.hadoop.fs.FileSystem.get(FileSystem.java:479)\n\tat org.apache.hadoop.fs.Path.getFileSystem(Path.java:361)\n\tat org.apache.spark.sql.execution.datasources.DataSource.planForWritingFileFormat(DataSource.scala:452)\n\tat org.apache.spark.sql.execution.datasources.DataSource.planForWriting(DataSource.scala:552)\n\tat org.apache.spark.sql.DataFrameWriter.saveToV1Source(DataFrameWriter.scala:309)\n\tat org.apache.spark.sql.DataFrameWriter.save(DataFrameWriter.scala:293)\n\tat org.apache.spark.sql.DataFrameWriter.save(DataFrameWriter.scala:236)\n\tat sun.reflect.NativeMethodAccessorImpl.invoke0(Native Method)\n\tat sun.reflect.NativeMethodAccessorImpl.invoke(NativeMethodAccessorImpl.java:62)\n\tat sun.reflect.DelegatingMethodAccessorImpl.invoke(DelegatingMethodAccessorImpl.java:43)\n\tat java.lang.reflect.Method.invoke(Method.java:498)\n\tat py4j.reflection.MethodInvoker.invoke(MethodInvoker.java:244)\n\tat py4j.reflection.ReflectionEngine.invoke(ReflectionEngine.java:357)\n\tat py4j.Gateway.invoke(Gateway.java:282)\n\tat py4j.commands.AbstractCommand.invokeMethod(AbstractCommand.java:132)\n\tat py4j.commands.CallCommand.execute(CallCommand.java:79)\n\tat py4j.GatewayConnection.run(GatewayConnection.java:238)\n\tat java.lang.Thread.run(Thread.java:748)\nCaused by: java.lang.ClassNotFoundException: com.amazonaws.services.s3.model.MultiObjectDeleteException\n\tat java.net.URLClassLoader.findClass(URLClassLoader.java:382)\n\tat java.lang.ClassLoader.loadClass(ClassLoader.java:419)\n\tat sun.misc.Launcher$AppClassLoader.loadClass(Launcher.java:352)\n\tat java.lang.ClassLoader.loadClass(ClassLoader.java:352)\n\t... 28 more\n"
     ]
    }
   ],
   "source": [
    "# Ok now it's time to save these\n",
    "initial_posts.write.format(\"parquet\").save(fs_prefix + \"/initial_posts\")\n",
    "mailing_list_posts_in_reply_to.write.format(\"parquet\").save(fs_prefix + \"/initial_posts\")"
   ]
  },
  {
   "cell_type": "code",
   "execution_count": null,
   "metadata": {},
   "outputs": [],
   "source": [
    "# Find the initial posts where no one replied\n",
    "posts_without_replies = (initial_posts.join(\n",
    "        mailing_list_posts_in_reply_to,\n",
    "        col(\"mailing_list_posts_in_reply_to.In-Reply-To\") == col(\"initial_posts.Message-Id\"),\n",
    "        \"left_outer\")\n",
    "       .filter(col(\"mailing_list_posts_in_reply_to.Message-Id\").isNull())).cache()\n",
    "posts_without_replies.count()"
   ]
  },
  {
   "cell_type": "code",
   "execution_count": null,
   "metadata": {},
   "outputs": [],
   "source": []
  },
  {
   "cell_type": "code",
   "execution_count": null,
   "metadata": {},
   "outputs": [],
   "source": [
    "posts_by_date_count = spark_mailing_list_data.select(\n",
    "    date_trunc(\"dd\", from_unixtime(spark_mailing_list_data.timestamp)).alias(\"date\")) \\\n",
    "    .groupBy(\"date\").count()"
   ]
  },
  {
   "cell_type": "code",
   "execution_count": null,
   "metadata": {},
   "outputs": [],
   "source": [
    "posts_by_date_count.toPandas()"
   ]
  },
  {
   "cell_type": "code",
   "execution_count": null,
   "metadata": {},
   "outputs": [],
   "source": [
    "tokenizer = None\n",
    "# TODO - fix spacy tokenizetransformer\n",
    "#try:\n",
    "#    tokenizer = SpacyTokenizeTransformer(inputCol=\"body\", outputCol=\"body_tokens\")\n",
    "#except:\n",
    "#tokenizer = Tokenizer(inputCol=\"body\", outputCol=\"body_tokens\")\n",
    "spacy_tokenizer = SpacyTokenizeTransformer(inputCol=\"body\", outputCol=\"body_tokens\")\n",
    "builtin_tokenizer = tokenizer = Tokenizer(inputCol=\"body\", outputCol=\"body_tokens\")\n",
    "tokenizer = spacy_tokenizer"
   ]
  },
  {
   "cell_type": "code",
   "execution_count": null,
   "metadata": {},
   "outputs": [],
   "source": [
    "# Todo - UDF to exctract & UDF to detect programming language & UDF to extract files in a stack trace\n"
   ]
  },
  {
   "cell_type": "code",
   "execution_count": null,
   "metadata": {},
   "outputs": [],
   "source": []
  },
  {
   "cell_type": "code",
   "execution_count": null,
   "metadata": {},
   "outputs": [],
   "source": [
    "def extract_links(body):\n",
    "    import re\n",
    "    link_regex_str = r'(http(|s)://(.*?))([\\s\\n]|$)'\n",
    "    itr = re.finditer(link_regex_str, body, re.MULTILINE)\n",
    "    return list(map(lambda elem: elem.group(1), itr))\n",
    "\n",
    "def extract_domains(links):\n",
    "    from urllib.parse import urlparse\n",
    "    def extract_domain(link):\n",
    "        try:\n",
    "            nloc = urlparse(link).netloc\n",
    "            # We want to drop www and any extra spaces wtf nloc on the spaces.\n",
    "            regex_str = r'^(www\\.|)(.*?)\\s*$'\n",
    "            match = re.search(regex_str, nloc)\n",
    "            return match.group(2)\n",
    "        except:\n",
    "            return None\n",
    "    return list(map(extract_domain, links))\n",
    "\n",
    "def contains_python_stack_trace(body):\n",
    "    return \"Traceback (most recent call last)\" in body\n",
    "\n",
    "\n",
    "\n",
    "def contains_probably_java_stack_trace(body):\n",
    "    # Look for something based on regex\n",
    "    # Tried https://stackoverflow.com/questions/20609134/regular-expression-optional-multiline-java-stacktrace - more msg looking\n",
    "    # Tried https://stackoverflow.com/questions/3814327/regular-expression-to-parse-a-log-file-and-find-stacktraces\n",
    "    # Yes the compile is per call, but it's cached so w/e\n",
    "    import re\n",
    "    stack_regex_str = r'^\\s*(.+Exception.*):\\n(.*\\n){0,3}?(\\s+at\\s+.*\\(.*\\))+'\n",
    "    match = re.search(stack_regex_str, body, re.MULTILINE)\n",
    "    return match is not None\n",
    "\n",
    "\n",
    "def contains_exception_in_task(body):\n",
    "    # Look for a line along the lines of ERROR Executor: Exception in task \n",
    "    return \"ERROR Executor: Exception in task\" in body\n",
    "    "
   ]
  },
  {
   "cell_type": "code",
   "execution_count": null,
   "metadata": {},
   "outputs": [],
   "source": []
  },
  {
   "cell_type": "code",
   "execution_count": null,
   "metadata": {},
   "outputs": [],
   "source": []
  },
  {
   "cell_type": "code",
   "execution_count": null,
   "metadata": {},
   "outputs": [],
   "source": [
    "\n"
   ]
  },
  {
   "cell_type": "code",
   "execution_count": null,
   "metadata": {},
   "outputs": [],
   "source": []
  },
  {
   "cell_type": "code",
   "execution_count": null,
   "metadata": {},
   "outputs": [],
   "source": [
    "extract_links_udf = UserDefinedFunction(\n",
    "    extract_links, ArrayType(StringType()), \"extract_links\")\n",
    "\n",
    "session.catalog._jsparkSession.udf().registerPython(\n",
    "    \"extract_links\",\n",
    "    extract_links_udf._judf)\n",
    "\n",
    "\n",
    "extract_domains_udf = UserDefinedFunction(\n",
    "    extract_domains, ArrayType(StringType()), \"extract_domains\")\n",
    "\n",
    "session.catalog._jsparkSession.udf().registerPython(\n",
    "    \"extract_domains\",\n",
    "    extract_domains_udf._judf)\n",
    "\n",
    "\n",
    "contains_python_stack_trace_udf = UserDefinedFunction(\n",
    "    contains_python_stack_trace, BooleanType(), \"contains_python_stack_trace\")\n",
    "\n",
    "session.catalog._jsparkSession.udf().registerPython(\n",
    "    \"contains_python_stack_trace\",\n",
    "    contains_python_stack_trace_udf._judf)\n",
    "\n",
    "\n",
    "contains_probably_java_stack_trace_udf = UserDefinedFunction(\n",
    "    contains_probably_java_stack_trace, BooleanType(), \"contains_probably_java_stack_trace\")\n",
    "\n",
    "session.catalog._jsparkSession.udf().registerPython(\n",
    "    \"contains_probably_java_stack_trace\",\n",
    "    contains_probably_java_stack_trace_udf._judf)\n",
    "\n",
    "\n",
    "contains_exception_in_task_udf = UserDefinedFunction(\n",
    "    contains_exception_in_task, BooleanType(), \"contains_exception_in_task\")\n",
    "\n",
    "session.catalog._jsparkSession.udf().registerPython(\n",
    "    \"contains_exception_in_task\",\n",
    "    contains_exception_in_task_udf._judf)"
   ]
  },
  {
   "cell_type": "markdown",
   "metadata": {},
   "source": [
    "We could make this a transformer stage, but I'm lazy so we'll just use a UDF directly."
   ]
  },
  {
   "cell_type": "code",
   "execution_count": null,
   "metadata": {},
   "outputs": [],
   "source": [
    "annotated_spark_mailing_list_data = spark_mailing_list_data.select(\n",
    "    \"*\",\n",
    "    extract_links_udf(spark_mailing_list_data.body).alias(\"links_in_email\"),\n",
    "    contains_python_stack_trace_udf(spark_mailing_list_data.body).alias(\"contains_python_stack_trace\").cast(\"double\"),\n",
    "    contains_probably_java_stack_trace_udf(spark_mailing_list_data.body).alias(\"contains_java_stack_trace\").cast(\"double\"),\n",
    "    contains_exception_in_task_udf(spark_mailing_list_data.body).alias(\"contains_exception_in_task\").cast(\"double\"))"
   ]
  },
  {
   "cell_type": "code",
   "execution_count": null,
   "metadata": {},
   "outputs": [],
   "source": [
    "annotated_spark_mailing_list_data.cache()"
   ]
  },
  {
   "cell_type": "code",
   "execution_count": null,
   "metadata": {},
   "outputs": [],
   "source": [
    "annotated_spark_mailing_list_data.show()"
   ]
  },
  {
   "cell_type": "code",
   "execution_count": null,
   "metadata": {},
   "outputs": [],
   "source": [
    "further_annotated = annotated_spark_mailing_list_data.withColumn(\n",
    "    \"domain_links\",\n",
    "    extract_domains_udf(annotated_spark_mailing_list_data.links_in_email)).withColumn(\n",
    "    \"is_thread_start\",\n",
    "    isnull(annotated_spark_mailing_list_data.in_reply_to).cast(DoubleType()))\n",
    "# Long story, allow mixed UDF types\n",
    "further_annotated.cache()\n",
    "further_annotated.count()"
   ]
  },
  {
   "cell_type": "code",
   "execution_count": null,
   "metadata": {},
   "outputs": [],
   "source": [
    "\n"
   ]
  },
  {
   "cell_type": "code",
   "execution_count": null,
   "metadata": {},
   "outputs": [],
   "source": [
    "body_hashing = HashingTF(inputCol=\"body_tokens\", outputCol=\"raw_body_features\", numFeatures=10000)\n",
    "body_idf =IDF(inputCol=\"raw_body_features\", outputCol=\"body_features\")"
   ]
  },
  {
   "cell_type": "code",
   "execution_count": null,
   "metadata": {},
   "outputs": [],
   "source": [
    "body_word2Vec = Word2Vec(vectorSize=5, minCount=0, numPartitions=10, inputCol=\"body_tokens\", outputCol=\"body_features\")"
   ]
  },
  {
   "cell_type": "code",
   "execution_count": null,
   "metadata": {},
   "outputs": [],
   "source": []
  },
  {
   "cell_type": "code",
   "execution_count": null,
   "metadata": {},
   "outputs": [],
   "source": [
    "assembler = VectorAssembler(\n",
    "    inputCols=[\"body_features\", \"contains_python_stack_trace\", \"contains_java_stack_trace\", \n",
    "              \"contains_exception_in_task\", \"is_thread_start\", \"domain_features\"],\n",
    "    outputCol=\"features\")"
   ]
  },
  {
   "cell_type": "code",
   "execution_count": null,
   "metadata": {},
   "outputs": [],
   "source": [
    "kmeans = KMeans(featuresCol=\"features\", k=2, seed=42)"
   ]
  },
  {
   "cell_type": "code",
   "execution_count": null,
   "metadata": {},
   "outputs": [],
   "source": [
    "featureprep_pipeline = Pipeline(stages=[tokenizer, body_hashing, body_idf, domains_hashing, domains_idf, assembler])\n",
    "pipeline = Pipeline(stages=[featureprep_pipeline, kmeans])"
   ]
  },
  {
   "cell_type": "code",
   "execution_count": null,
   "metadata": {},
   "outputs": [],
   "source": []
  },
  {
   "cell_type": "code",
   "execution_count": null,
   "metadata": {},
   "outputs": [],
   "source": [
    "from pyspark.ml.pipeline import Transformer\n",
    "isinstance(tokenizer, Transformer)"
   ]
  },
  {
   "cell_type": "code",
   "execution_count": null,
   "metadata": {},
   "outputs": [],
   "source": [
    "test = further_annotated.limit(10).cache()\n",
    "test.count()"
   ]
  },
  {
   "cell_type": "code",
   "execution_count": null,
   "metadata": {},
   "outputs": [],
   "source": [
    "test_model = pipeline.fit(test)"
   ]
  },
  {
   "cell_type": "code",
   "execution_count": null,
   "metadata": {},
   "outputs": [],
   "source": [
    "test_result = test_model.transform(test)\n",
    "test_result.toPandas()"
   ]
  },
  {
   "cell_type": "code",
   "execution_count": null,
   "metadata": {},
   "outputs": [],
   "source": [
    "data_prep_transformer = dataprep_pipeline.fit(further_annotated)\n",
    "preped_data = data_prep_model.transform(further_annotated)\n",
    "preped_data.count()"
   ]
  },
  {
   "cell_type": "code",
   "execution_count": null,
   "metadata": {},
   "outputs": [],
   "source": []
  },
  {
   "cell_type": "code",
   "execution_count": null,
   "metadata": {},
   "outputs": [],
   "source": []
  },
  {
   "cell_type": "code",
   "execution_count": null,
   "metadata": {},
   "outputs": [],
   "source": []
  },
  {
   "cell_type": "code",
   "execution_count": null,
   "metadata": {},
   "outputs": [],
   "source": []
  },
  {
   "cell_type": "code",
   "execution_count": null,
   "metadata": {},
   "outputs": [],
   "source": [
    "\n"
   ]
  },
  {
   "cell_type": "code",
   "execution_count": null,
   "metadata": {},
   "outputs": [],
   "source": []
  },
  {
   "cell_type": "code",
   "execution_count": null,
   "metadata": {},
   "outputs": [],
   "source": []
  },
  {
   "cell_type": "code",
   "execution_count": null,
   "metadata": {},
   "outputs": [],
   "source": []
  },
  {
   "cell_type": "code",
   "execution_count": null,
   "metadata": {},
   "outputs": [],
   "source": []
  },
  {
   "cell_type": "code",
   "execution_count": null,
   "metadata": {},
   "outputs": [],
   "source": []
  },
  {
   "cell_type": "code",
   "execution_count": null,
   "metadata": {},
   "outputs": [],
   "source": []
  },
  {
   "cell_type": "code",
   "execution_count": null,
   "metadata": {},
   "outputs": [],
   "source": []
  },
  {
   "cell_type": "code",
   "execution_count": null,
   "metadata": {},
   "outputs": [],
   "source": []
  },
  {
   "cell_type": "code",
   "execution_count": null,
   "metadata": {},
   "outputs": [],
   "source": []
  },
  {
   "cell_type": "code",
   "execution_count": null,
   "metadata": {},
   "outputs": [],
   "source": []
  },
  {
   "cell_type": "code",
   "execution_count": null,
   "metadata": {},
   "outputs": [],
   "source": []
  },
  {
   "cell_type": "code",
   "execution_count": null,
   "metadata": {},
   "outputs": [],
   "source": []
  },
  {
   "cell_type": "code",
   "execution_count": null,
   "metadata": {},
   "outputs": [],
   "source": []
  },
  {
   "cell_type": "markdown",
   "metadata": {},
   "source": []
  },
  {
   "cell_type": "code",
   "execution_count": null,
   "metadata": {},
   "outputs": [],
   "source": []
  },
  {
   "cell_type": "code",
   "execution_count": null,
   "metadata": {},
   "outputs": [],
   "source": []
  },
  {
   "cell_type": "code",
   "execution_count": null,
   "metadata": {},
   "outputs": [],
   "source": []
  },
  {
   "cell_type": "code",
   "execution_count": null,
   "metadata": {},
   "outputs": [],
   "source": []
  },
  {
   "cell_type": "code",
   "execution_count": null,
   "metadata": {},
   "outputs": [],
   "source": []
  },
  {
   "cell_type": "code",
   "execution_count": null,
   "metadata": {},
   "outputs": [],
   "source": []
  },
  {
   "cell_type": "code",
   "execution_count": null,
   "metadata": {},
   "outputs": [],
   "source": []
  },
  {
   "cell_type": "code",
   "execution_count": null,
   "metadata": {},
   "outputs": [],
   "source": []
  },
  {
   "cell_type": "code",
   "execution_count": null,
   "metadata": {},
   "outputs": [],
   "source": []
  },
  {
   "cell_type": "code",
   "execution_count": null,
   "metadata": {},
   "outputs": [],
   "source": []
  },
  {
   "cell_type": "code",
   "execution_count": null,
   "metadata": {},
   "outputs": [],
   "source": []
  },
  {
   "cell_type": "code",
   "execution_count": null,
   "metadata": {},
   "outputs": [],
   "source": []
  },
  {
   "cell_type": "code",
   "execution_count": null,
   "metadata": {},
   "outputs": [],
   "source": []
  },
  {
   "cell_type": "code",
   "execution_count": null,
   "metadata": {},
   "outputs": [],
   "source": []
  },
  {
   "cell_type": "code",
   "execution_count": null,
   "metadata": {},
   "outputs": [],
   "source": []
  },
  {
   "cell_type": "code",
   "execution_count": null,
   "metadata": {},
   "outputs": [],
   "source": []
  },
  {
   "cell_type": "code",
   "execution_count": null,
   "metadata": {},
   "outputs": [],
   "source": []
  }
 ],
 "metadata": {
  "kernelspec": {
   "display_name": "Python 3",
   "language": "python",
   "name": "python3"
  },
  "language_info": {
   "codemirror_mode": {
    "name": "ipython",
    "version": 3
   },
   "file_extension": ".py",
   "mimetype": "text/x-python",
   "name": "python",
   "nbconvert_exporter": "python",
   "pygments_lexer": "ipython3",
   "version": "3.6.9"
  }
 },
 "nbformat": 4,
 "nbformat_minor": 2
}
